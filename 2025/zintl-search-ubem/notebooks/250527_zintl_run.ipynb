{
 "cells": [
  {
   "cell_type": "code",
   "execution_count": 1,
   "id": "e2590930-f8fe-4d56-a848-2a769b96d550",
   "metadata": {},
   "outputs": [],
   "source": [
    "import json\n",
    "import gzip\n",
    "import numpy as np\n",
    "import pandas as pd\n",
    "from pathlib import Path\n",
    "from distutils.log import warn\n",
    "from tqdm.notebook import tqdm\n",
    "\n",
    "from pymatgen.core import Composition, Structure\n",
    "from pymatgen.analysis.phase_diagram import PhaseDiagram, PDEntry\n",
    "\n",
    "tqdm.pandas()"
   ]
  },
  {
   "cell_type": "code",
   "execution_count": 2,
   "id": "fd748a9f-d0a7-400e-b8da-ffb11572ab73",
   "metadata": {},
   "outputs": [
    {
     "name": "stderr",
     "output_type": "stream",
     "text": [
      "2025-05-24 05:54:37.744756: I tensorflow/core/platform/cpu_feature_guard.cc:193] This TensorFlow binary is optimized with oneAPI Deep Neural Network Library (oneDNN) to use the following CPU instructions in performance-critical operations:  SSE4.1 SSE4.2 AVX AVX2 AVX512F AVX512_VNNI AVX512_BF16 AVX_VNNI AMX_TILE AMX_INT8 AMX_BF16 FMA\n",
      "To enable them in other operations, rebuild TensorFlow with the appropriate compiler flags.\n",
      "2025-05-24 05:54:42.902100: I tensorflow/core/util/util.cc:169] oneDNN custom operations are on. You may see slightly different numerical results due to floating-point round-off errors from different computation orders. To turn them off, set the environment variable `TF_ENABLE_ONEDNN_OPTS=0`.\n",
      "/home/jlaw/.conda-envs/crystals/lib/python3.10/site-packages/tensorflow_addons/utils/tfa_eol_msg.py:23: UserWarning: \n",
      "\n",
      "TensorFlow Addons (TFA) has ended development and introduction of new features.\n",
      "TFA has entered a minimal maintenance and release mode until a planned end of life in May 2024.\n",
      "Please modify downstream libraries to take dependencies from other repositories in our TensorFlow community (e.g. Keras, Keras-CV, and Keras-NLP). \n",
      "\n",
      "For more information see: https://github.com/tensorflow/addons/issues/2807 \n",
      "\n",
      "  warnings.warn(\n",
      "/home/jlaw/.conda-envs/crystals/lib/python3.10/site-packages/tensorflow_addons/utils/ensure_tf_install.py:53: UserWarning: Tensorflow Addons supports using Python ops for all Tensorflow versions above or equal to 2.13.0 and strictly below 2.16.0 (nightly versions are not supported). \n",
      " The versions of TensorFlow you are currently using is 2.10.0 and is not supported. \n",
      "Some things might work, some things might not.\n",
      "If you were to encounter a bug, do not file an issue.\n",
      "If you want to make sure you're using a tested and supported configuration, either change the TensorFlow version or the TensorFlow Addons's version. \n",
      "You can find the compatibility matrix in TensorFlow Addon's readme:\n",
      "https://github.com/tensorflow/addons\n",
      "  warnings.warn(\n"
     ]
    }
   ],
   "source": [
    "import tensorflow as tf\n",
    "import tensorflow_addons as tfa\n",
    "import nfp\n",
    "from nfp import custom_objects\n",
    "from nfp.layers import RBFExpansion"
   ]
  },
  {
   "cell_type": "code",
   "execution_count": 3,
   "id": "21b8e892-ac72-4326-a289-5a396a7569c5",
   "metadata": {},
   "outputs": [
    {
     "name": "stderr",
     "output_type": "stream",
     "text": [
      "/home/jlaw/.conda-envs/crystals/lib/python3.10/site-packages/tqdm/auto.py:21: TqdmWarning: IProgress not found. Please update jupyter and ipywidgets. See https://ipywidgets.readthedocs.io/en/stable/user_install.html\n",
      "  from .autonotebook import tqdm as notebook_tqdm\n"
     ]
    }
   ],
   "source": [
    "import sys\n",
    "sys.path.append(\"/projects/complexmat/GROUP/projects/nsf-zintl/zintl_atlas/UBEM_ML_model\")\n",
    "from preprocess import preprocessor"
   ]
  },
  {
   "cell_type": "code",
   "execution_count": 4,
   "id": "43dd3aa0-c423-468e-8184-c3107f582d3b",
   "metadata": {},
   "outputs": [
    {
     "name": "stdout",
     "output_type": "stream",
     "text": [
      "pd.__version__ = '1.5.3'\n",
      "np.__version__ = '1.26.4'\n",
      "tf.__version__ = '2.10.0'\n",
      "nfp.__version__ = '0.3.12'\n"
     ]
    }
   ],
   "source": [
    "# since package versions may be important\n",
    "print(f\"{pd.__version__ = }\")\n",
    "print(f\"{np.__version__ = }\")\n",
    "print(f\"{tf.__version__ = }\")\n",
    "print(f\"{nfp.__version__ = }\")"
   ]
  },
  {
   "cell_type": "code",
   "execution_count": 5,
   "id": "1d02fe0a-33f4-46e8-be87-45874251c8ca",
   "metadata": {},
   "outputs": [
    {
     "name": "stdout",
     "output_type": "stream",
     "text": [
      "Name: pymatgen\n",
      "Version: 2024.2.8\n",
      "Summary: Python Materials Genomics is a robust materials analysis code that defines core object representations for structures and molecules with support for many electronic structure codes. It is currently the core analysis code powering the Materials Project (https://materialsproject.org).\n",
      "Home-page: https://pymatgen.org\n",
      "Author: Pymatgen Development Team\n",
      "Author-email: ongsp@ucsd.edu\n",
      "License: MIT\n",
      "Location: /home/jlaw/.conda-envs/crystals/lib/python3.10/site-packages\n",
      "Requires: joblib, matplotlib, monty, networkx, numpy, palettable, pandas, plotly, pybtex, requests, ruamel.yaml, scipy, spglib, sympy, tabulate, tqdm, uncertainties\n",
      "Required-by: matminer\n"
     ]
    }
   ],
   "source": [
    "# Not sure which variable pymatgen uses for its version,\n",
    "# so print it with pip\n",
    "!pip show pymatgen"
   ]
  },
  {
   "cell_type": "markdown",
   "id": "063aba89-5821-4c58-af0d-c8bb77eeafd3",
   "metadata": {},
   "source": [
    "## Predict the total energy\n",
    "- This model has been trained with the ICSD, fully relaxed, and volume-relaxed datasets\n",
    "- This means it will predict the total energy of a structure in its given state\n",
    "  - if the structure is unrelaxed, the energy predicted will be an upper-bound for the energy after relaxation"
   ]
  },
  {
   "cell_type": "code",
   "execution_count": 6,
   "id": "a60f5ca8-38f5-46b9-a33b-b49cf751dde6",
   "metadata": {},
   "outputs": [
    {
     "name": "stdout",
     "output_type": "stream",
     "text": [
      "loading /projects/complexmat/GROUP/projects/nsf-zintl/zintl_atlas/UBEM_ML_model/output/best_model.hdf5\n"
     ]
    },
    {
     "name": "stderr",
     "output_type": "stream",
     "text": [
      "2025-05-24 05:55:02.074748: I tensorflow/core/platform/cpu_feature_guard.cc:193] This TensorFlow binary is optimized with oneAPI Deep Neural Network Library (oneDNN) to use the following CPU instructions in performance-critical operations:  SSE4.1 SSE4.2 AVX AVX2 AVX512F AVX512_VNNI AVX512_BF16 AVX_VNNI AMX_TILE AMX_INT8 AMX_BF16 FMA\n",
      "To enable them in other operations, rebuild TensorFlow with the appropriate compiler flags.\n",
      "2025-05-24 05:55:02.577733: I tensorflow/core/common_runtime/gpu/gpu_device.cc:1616] Created device /job:localhost/replica:0/task:0/device:GPU:0 with 40602 MB memory:  -> device: 0, name: NVIDIA L40, pci bus id: 0000:23:00.0, compute capability: 8.9\n",
      "2025-05-24 05:55:02.587782: I tensorflow/core/common_runtime/gpu/gpu_device.cc:1616] Created device /job:localhost/replica:0/task:0/device:GPU:1 with 42955 MB memory:  -> device: 1, name: NVIDIA L40, pci bus id: 0000:89:00.0, compute capability: 8.9\n"
     ]
    }
   ],
   "source": [
    "# Load the tensorflow model for predicting the total energy of a given structure\n",
    "# If you haven't already, you'll need to download the model using download.sh (see README.md)\n",
    "energy_model_file = Path(\"/projects/complexmat/GROUP/projects/nsf-zintl/zintl_atlas/UBEM_ML_model/output/best_model.hdf5\")\n",
    "print(f\"loading {energy_model_file}\")\n",
    "energy_model = tf.keras.models.load_model(energy_model_file,\n",
    "                                          custom_objects={**custom_objects,\n",
    "                                                          **{'RBFExpansion': RBFExpansion}})"
   ]
  },
  {
   "cell_type": "markdown",
   "id": "26730cb9-1194-4f78-8973-79a58b16abd6",
   "metadata": {},
   "source": [
    "Here's an example of how to predict the energy for a structure"
   ]
  },
  {
   "cell_type": "code",
   "execution_count": 84,
   "id": "0389b35c-34aa-427c-9754-48fae05aa72c",
   "metadata": {},
   "outputs": [],
   "source": [
    "# Here we define some convenience functions for preprocessing structures and generating predictions\n",
    "def preprocess_structure(structure):\n",
    "    inputs = preprocessor(structure)\n",
    "    # scale structures to a minimum of 1A interatomic distance\n",
    "    min_distance = inputs[\"distance\"].min()\n",
    "    if np.isclose(min_distance, 0):\n",
    "        warn(f\"Error with {row.id}\")\n",
    "        return None\n",
    "\n",
    "    scale_factor = 1.0 / inputs[\"distance\"].min()\n",
    "    print(scale_factor)\n",
    "    inputs[\"distance\"] *= scale_factor\n",
    "    return inputs\n",
    "\n",
    "\n",
    "def build_dataset(structures, batch_size=8):\n",
    "    dataset = tf.data.Dataset.from_generator(\n",
    "        lambda: (preprocess_structure(s) for s in structures),\n",
    "        output_signature=(preprocessor.output_signature),\n",
    "        ).padded_batch(\n",
    "            batch_size=batch_size,\n",
    "            padding_values=(preprocessor.padding_values),\n",
    "        )\n",
    "    return dataset\n",
    "\n",
    "\n",
    "def predict_energy(energy_model, structures):\n",
    "    dataset = build_dataset(structures)\n",
    "    predicted_energy = energy_model.predict(dataset)\n",
    "    return predicted_energy.flatten()"
   ]
  },
  {
   "cell_type": "code",
   "execution_count": 88,
   "id": "e00e20f5-bf74-4661-b830-6bbc2e316b1b",
   "metadata": {},
   "outputs": [
    {
     "data": {
      "text/plain": [
       "Structure Summary\n",
       "Lattice\n",
       "    abc : 7.145171867736691 7.653457179720004 13.392914569718982\n",
       " angles : 90.0 90.0 90.0\n",
       " volume : 732.3951082353593\n",
       "      A : 7.145171867736691 0.0 0.0\n",
       "      B : 5e-16 7.653457179720004 0.0\n",
       "      C : 8e-16 8e-16 13.392914569718982\n",
       "    pbc : True True True\n",
       "PeriodicSite: As (1.794, 6.011, 1.512) [0.2511, 0.7854, 0.1129]\n",
       "PeriodicSite: As (5.351, 6.011, 1.512) [0.7489, 0.7854, 0.1129]\n",
       "PeriodicSite: As (5.351, 1.642, 8.209) [0.7489, 0.2146, 0.6129]\n",
       "PeriodicSite: As (1.794, 1.642, 8.209) [0.2511, 0.2146, 0.6129]\n",
       "PeriodicSite: As (1.793, 4.564, 3.506) [0.251, 0.5963, 0.2618]\n",
       "PeriodicSite: As (5.352, 4.564, 3.506) [0.749, 0.5963, 0.2618]\n",
       "PeriodicSite: As (5.352, 3.09, 10.2) [0.749, 0.4037, 0.7618]\n",
       "PeriodicSite: As (1.793, 3.09, 10.2) [0.251, 0.4037, 0.7618]\n",
       "PeriodicSite: As (3.749e-16, 2.95, 3.051) [0.0, 0.3854, 0.2278]\n",
       "PeriodicSite: As (8.895e-16, 4.704, 9.747) [0.0, 0.6146, 0.7278]\n",
       "PeriodicSite: As (3.689e-16, 1.312, 4.741) [0.0, 0.1714, 0.354]\n",
       "PeriodicSite: As (1.098e-15, 6.342, 11.44) [0.0, 0.8286, 0.854]\n",
       "PeriodicSite: As (5.787e-16, 2.629, 6.813) [0.0, 0.3435, 0.5087]\n",
       "PeriodicSite: As (3.352e-16, 5.024, 0.1165) [0.0, 0.6565, 0.0087]\n",
       "PeriodicSite: As (3.573, 5.073, 0.1192) [0.5, 0.6628, 0.0089]\n",
       "PeriodicSite: As (3.573, 2.581, 6.816) [0.5, 0.3372, 0.5089]\n",
       "PeriodicSite: As (3.573, 2.97, 2.922) [0.5, 0.388, 0.2182]\n",
       "PeriodicSite: As (3.573, 4.684, 9.619) [0.5, 0.612, 0.7182]\n",
       "PeriodicSite: As (3.573, 2.715, 0.5866) [0.5, 0.3548, 0.0438]\n",
       "PeriodicSite: As (3.573, 4.938, 7.283) [0.5, 0.6452, 0.5438]\n",
       "PeriodicSite: Ga (7.893e-16, 5.959, 6.696) [0.0, 0.7786, 0.5]\n",
       "PeriodicSite: Ga (1.107e-16, 1.694, 0.0) [0.0, 0.2214, 0.0]\n",
       "PeriodicSite: Ga (3.573, 0.1079, 4.566) [0.5, 0.0141, 0.3409]\n",
       "PeriodicSite: Ga (3.573, 7.546, 11.26) [0.5, 0.9859, 0.8409]"
      ]
     },
     "execution_count": 88,
     "metadata": {},
     "output_type": "execute_result"
    }
   ],
   "source": [
    "# Load a structure from file. \n",
    "base_dir = Path(\"/projects/complexmat/GROUP/projects/nsf-zintl/zintl_atlas/\")\n",
    "decorations_dir = base_dir / \"decorations\"\n",
    "structure_file = base_dir / \"UBEM_ML_model/poscars/POSCAR_a5d1_26_P5Tl1_icsd_015021_As_Ga\"\n",
    "structure = Structure.from_file(structure_file)\n",
    "structure"
   ]
  },
  {
   "cell_type": "code",
   "execution_count": 89,
   "id": "3ae9a9b8-b962-4d3d-9f9d-0037eafa8a77",
   "metadata": {},
   "outputs": [
    {
     "name": "stdout",
     "output_type": "stream",
     "text": [
      "0.4256216197676258\n",
      "1/1 [==============================] - 0s 117ms/step\n"
     ]
    },
    {
     "data": {
      "text/plain": [
       "array([-4.1921277], dtype=float32)"
      ]
     },
     "execution_count": 89,
     "metadata": {},
     "output_type": "execute_result"
    }
   ],
   "source": [
    "predicted_energies = predict_energy(energy_model, [structure])\n",
    "predicted_energies"
   ]
  },
  {
   "cell_type": "code",
   "execution_count": 87,
   "id": "b7ef53cd-f511-4b16-8b3e-485e32b6ad9c",
   "metadata": {},
   "outputs": [
    {
     "name": "stdout",
     "output_type": "stream",
     "text": [
      "0.34436980172913\n",
      "1/1 [==============================] - 0s 110ms/step\n"
     ]
    },
    {
     "data": {
      "text/plain": [
       "array([-3.5346313], dtype=float32)"
      ]
     },
     "execution_count": 87,
     "metadata": {},
     "output_type": "execute_result"
    }
   ],
   "source": [
    "predicted_energies = predict_energy(energy_model, [structure])\n",
    "predicted_energies"
   ]
  },
  {
   "cell_type": "code",
   "execution_count": 10,
   "id": "7d5bad2b-536c-474c-baea-00240d673a44",
   "metadata": {},
   "outputs": [],
   "source": [
    "from glob import glob\n",
    "# from tqdm.notebook import tqdm"
   ]
  },
  {
   "cell_type": "code",
   "execution_count": 11,
   "id": "f43e96cb-830a-465b-ad39-fe4aec21bb8d",
   "metadata": {},
   "outputs": [
    {
     "name": "stdout",
     "output_type": "stream",
     "text": [
      "90856\n"
     ]
    }
   ],
   "source": [
    "# now load all the structures and make all the predictions\n",
    "structures = {}\n",
    "for s_file in glob(str(decorations_dir / \"*/*/*/POSCAR*\")):\n",
    "    s_file = Path(s_file)\n",
    "    structure = Structure.from_file(s_file, primitive=True)\n",
    "    structures[s_file.name] = structure\n",
    "\n",
    "print(len(structures))"
   ]
  },
  {
   "cell_type": "code",
   "execution_count": 12,
   "id": "8be9415e-1086-4973-9945-19125d359c20",
   "metadata": {},
   "outputs": [
    {
     "name": "stdout",
     "output_type": "stream",
     "text": [
      "2/2 [==============================] - 0s 66ms/step\n"
     ]
    },
    {
     "data": {
      "text/plain": [
       "array([-4.302996 , -4.0243716, -5.312325 , -4.000423 , -4.379902 ,\n",
       "       -4.5538793, -4.0985417, -3.9308417, -4.218911 , -4.132237 ],\n",
       "      dtype=float32)"
      ]
     },
     "execution_count": 12,
     "metadata": {},
     "output_type": "execute_result"
    }
   ],
   "source": [
    "predicted_energies = predict_energy(energy_model, list(structures.values())[:10])\n",
    "predicted_energies"
   ]
  },
  {
   "cell_type": "code",
   "execution_count": 13,
   "id": "232b2408-723e-470b-b027-bf99bf18ee9d",
   "metadata": {},
   "outputs": [
    {
     "data": {
      "text/html": [
       "<div>\n",
       "<style scoped>\n",
       "    .dataframe tbody tr th:only-of-type {\n",
       "        vertical-align: middle;\n",
       "    }\n",
       "\n",
       "    .dataframe tbody tr th {\n",
       "        vertical-align: top;\n",
       "    }\n",
       "\n",
       "    .dataframe thead th {\n",
       "        text-align: right;\n",
       "    }\n",
       "</style>\n",
       "<table border=\"1\" class=\"dataframe\">\n",
       "  <thead>\n",
       "    <tr style=\"text-align: right;\">\n",
       "      <th></th>\n",
       "      <th>structure</th>\n",
       "      <th>predicted_energy</th>\n",
       "    </tr>\n",
       "  </thead>\n",
       "  <tbody>\n",
       "    <tr>\n",
       "      <th>0</th>\n",
       "      <td>POSCAR_a2e1_205_P2Si1_icsd_024333_P_Pb</td>\n",
       "      <td>-4.302996</td>\n",
       "    </tr>\n",
       "    <tr>\n",
       "      <th>1</th>\n",
       "      <td>POSCAR_a2e1_205_P2Si1_icsd_024333_Sb_Sn</td>\n",
       "      <td>-4.024372</td>\n",
       "    </tr>\n",
       "    <tr>\n",
       "      <th>2</th>\n",
       "      <td>POSCAR_a2e1_205_P2Si1_icsd_024333_P_Si</td>\n",
       "      <td>-5.312325</td>\n",
       "    </tr>\n",
       "    <tr>\n",
       "      <th>3</th>\n",
       "      <td>POSCAR_a2e1_205_P2Si1_icsd_024333_Bi_Ge</td>\n",
       "      <td>-4.000423</td>\n",
       "    </tr>\n",
       "    <tr>\n",
       "      <th>4</th>\n",
       "      <td>POSCAR_a2e1_205_P2Si1_icsd_024333_As_Sn</td>\n",
       "      <td>-4.379902</td>\n",
       "    </tr>\n",
       "    <tr>\n",
       "      <th>5</th>\n",
       "      <td>POSCAR_a2e1_205_P2Si1_icsd_024333_As_Ge</td>\n",
       "      <td>-4.553879</td>\n",
       "    </tr>\n",
       "    <tr>\n",
       "      <th>6</th>\n",
       "      <td>POSCAR_a2e1_205_P2Si1_icsd_024333_Bi_Si</td>\n",
       "      <td>-4.098542</td>\n",
       "    </tr>\n",
       "    <tr>\n",
       "      <th>7</th>\n",
       "      <td>POSCAR_a2e1_205_P2Si1_icsd_024333_Bi_Sn</td>\n",
       "      <td>-3.930842</td>\n",
       "    </tr>\n",
       "    <tr>\n",
       "      <th>8</th>\n",
       "      <td>POSCAR_a2e1_205_P2Si1_icsd_024333_Sb_Si</td>\n",
       "      <td>-4.218911</td>\n",
       "    </tr>\n",
       "    <tr>\n",
       "      <th>9</th>\n",
       "      <td>POSCAR_a2e1_205_P2Si1_icsd_024333_As_Pb</td>\n",
       "      <td>-4.132237</td>\n",
       "    </tr>\n",
       "  </tbody>\n",
       "</table>\n",
       "</div>"
      ],
      "text/plain": [
       "                                 structure predicted_energy\n",
       "0   POSCAR_a2e1_205_P2Si1_icsd_024333_P_Pb        -4.302996\n",
       "1  POSCAR_a2e1_205_P2Si1_icsd_024333_Sb_Sn        -4.024372\n",
       "2   POSCAR_a2e1_205_P2Si1_icsd_024333_P_Si        -5.312325\n",
       "3  POSCAR_a2e1_205_P2Si1_icsd_024333_Bi_Ge        -4.000423\n",
       "4  POSCAR_a2e1_205_P2Si1_icsd_024333_As_Sn        -4.379902\n",
       "5  POSCAR_a2e1_205_P2Si1_icsd_024333_As_Ge        -4.553879\n",
       "6  POSCAR_a2e1_205_P2Si1_icsd_024333_Bi_Si        -4.098542\n",
       "7  POSCAR_a2e1_205_P2Si1_icsd_024333_Bi_Sn        -3.930842\n",
       "8  POSCAR_a2e1_205_P2Si1_icsd_024333_Sb_Si        -4.218911\n",
       "9  POSCAR_a2e1_205_P2Si1_icsd_024333_As_Pb        -4.132237"
      ]
     },
     "execution_count": 13,
     "metadata": {},
     "output_type": "execute_result"
    }
   ],
   "source": [
    "df = pd.DataFrame([list(structures.keys())[:10], predicted_energies]).T\n",
    "df.columns = [\"structure\", \"predicted_energy\"]\n",
    "df"
   ]
  },
  {
   "cell_type": "code",
   "execution_count": 14,
   "id": "14932ad3-4a05-44c4-b6b9-ed809bd3cb6c",
   "metadata": {},
   "outputs": [
    {
     "name": "stdout",
     "output_type": "stream",
     "text": [
      "90856\n"
     ]
    },
    {
     "data": {
      "text/html": [
       "<div>\n",
       "<style scoped>\n",
       "    .dataframe tbody tr th:only-of-type {\n",
       "        vertical-align: middle;\n",
       "    }\n",
       "\n",
       "    .dataframe tbody tr th {\n",
       "        vertical-align: top;\n",
       "    }\n",
       "\n",
       "    .dataframe thead th {\n",
       "        text-align: right;\n",
       "    }\n",
       "</style>\n",
       "<table border=\"1\" class=\"dataframe\">\n",
       "  <thead>\n",
       "    <tr style=\"text-align: right;\">\n",
       "      <th></th>\n",
       "      <th>structure</th>\n",
       "      <th>predicted_energy</th>\n",
       "    </tr>\n",
       "  </thead>\n",
       "  <tbody>\n",
       "    <tr>\n",
       "      <th>0</th>\n",
       "      <td>POSCAR_a2e1_205_P2Si1_icsd_024333_P_Pb</td>\n",
       "      <td>-4.302996</td>\n",
       "    </tr>\n",
       "    <tr>\n",
       "      <th>1</th>\n",
       "      <td>POSCAR_a2e1_205_P2Si1_icsd_024333_Sb_Sn</td>\n",
       "      <td>-4.024372</td>\n",
       "    </tr>\n",
       "  </tbody>\n",
       "</table>\n",
       "</div>"
      ],
      "text/plain": [
       "                                 structure  predicted_energy\n",
       "0   POSCAR_a2e1_205_P2Si1_icsd_024333_P_Pb         -4.302996\n",
       "1  POSCAR_a2e1_205_P2Si1_icsd_024333_Sb_Sn         -4.024372"
      ]
     },
     "execution_count": 14,
     "metadata": {},
     "output_type": "execute_result"
    }
   ],
   "source": [
    "# I ran the predictions separately. Load them here\n",
    "out_file = \"predicted_energies.csv\"\n",
    "df = pd.read_csv(out_file, index_col=0)\n",
    "print(len(df))\n",
    "df.head(2)"
   ]
  },
  {
   "cell_type": "code",
   "execution_count": 15,
   "id": "e91d97de-0ed3-4282-9d1e-474e739e5e0f",
   "metadata": {},
   "outputs": [
    {
     "data": {
      "text/plain": [
       "<Axes: ylabel='Frequency'>"
      ]
     },
     "execution_count": 15,
     "metadata": {},
     "output_type": "execute_result"
    },
    {
     "data": {
      "image/png": "[encoded data removed]",
      "text/plain": [
       "<Figure size 640x480 with 1 Axes>"
      ]
     },
     "metadata": {},
     "output_type": "display_data"
    }
   ],
   "source": [
    "df.predicted_energy.plot.hist(bins=30)"
   ]
  },
  {
   "cell_type": "markdown",
   "id": "2b89c870-9aba-4175-8a58-a0cc82782df2",
   "metadata": {},
   "source": [
    "## Decomposition Energy\n",
    "- Build the convex hull and compute the predicted decomposition energy for this structure\n",
    "- We can also compute all of the \"sub-rewards\" we're interested in\n",
    "- To compute the self-consistent decomposition energy, we would need all the DFT-relaxed energies we have, as well as the lowest predicted energy for each relevant composition"
   ]
  },
  {
   "cell_type": "code",
   "execution_count": 24,
   "id": "75719c30-1457-460a-be1b-6cfd28c0a878",
   "metadata": {},
   "outputs": [],
   "source": [
    "from src.ehull import setup_competing_phases, convex_hull_stability\n",
    "from src.crystal_reward import StructureRewardBattInterface"
   ]
  },
  {
   "cell_type": "code",
   "execution_count": 18,
   "id": "779db067-0a87-420b-a6c2-9f67fb69875c",
   "metadata": {},
   "outputs": [
    {
     "name": "stdout",
     "output_type": "stream",
     "text": [
      "Reading inputs/competing_phases.csv\n",
      "\t12682 lines\n",
      "  sortedformula   icsdnum  energyperatom reduced_composition\n",
      "0    Ag10Br3Te4  173116.0      -1.718985          Ag10Br3Te4\n",
      "1   Ag11K1O16V4  391344.0      -4.797702         Ag11K1O16V4\n",
      "\t12682 entries\n"
     ]
    }
   ],
   "source": [
    "# first load the competing phases from NREL MatDB\n",
    "competing_phases_file = \"inputs/competing_phases.csv\"\n",
    "competing_phases = setup_competing_phases(competing_phases_file)"
   ]
  },
  {
   "cell_type": "code",
   "execution_count": 19,
   "id": "4ccb292b-9799-4b05-9470-19e0fde7bdf4",
   "metadata": {},
   "outputs": [],
   "source": [
    "# The rewarder calculates all the sub-rewards (e.g. decomposition energy, conducting ion %)\n",
    "# and combines them into a single reward value\n",
    "rewarder = StructureRewardBattInterface(competing_phases)"
   ]
  },
  {
   "cell_type": "code",
   "execution_count": 13,
   "id": "6f66ef14-d4d6-4023-ad4d-44a1cb22f533",
   "metadata": {},
   "outputs": [
    {
     "data": {
      "text/plain": [
       "(Comp: Li1 Sc2 F7,\n",
       " 0.8275238356399739,\n",
       " {'predicted_energy': -6.284776,\n",
       "  'oxidation': -5,\n",
       "  'reduction': -0.8864,\n",
       "  'stability_window': 4.1136,\n",
       "  'decomp_energy': -1.7769,\n",
       "  'cond_ion_frac': 0.1})"
      ]
     },
     "execution_count": 13,
     "metadata": {},
     "output_type": "execute_result"
    }
   ],
   "source": [
    "# now compute the reward of the structure\n",
    "comp = structure.composition\n",
    "energyperatom = predicted_energies[0]\n",
    "reward, info = rewarder.compute_reward(comp, energyperatom)\n",
    "comp, reward, info"
   ]
  },
  {
   "cell_type": "code",
   "execution_count": 41,
   "id": "04e65f07-1106-4822-9ffa-c681969dd9e0",
   "metadata": {},
   "outputs": [
    {
     "data": {
      "text/plain": [
       "0                 PDEntry : Ag1 with energy = -0.7900\n",
       "1                 PDEntry : Al1 with energy = -3.2700\n",
       "2                 PDEntry : As1 with energy = -4.9500\n",
       "3                 PDEntry : Au1 with energy = -1.9600\n",
       "4                  PDEntry : B1 with energy = -6.7300\n",
       "                             ...                     \n",
       "12737    PDEntry : Sn2 Sr1 Zn2 with energy = -14.0339\n",
       "12738        PDEntry : Sn2 Ta1 with energy = -17.2825\n",
       "12739        PDEntry : Sn2 Zr1 with energy = -15.8536\n",
       "12740    PDEntry : Sn3 Zn1 Zr5 with energy = -51.1964\n",
       "12741         PDEntry : Li2 O1 with energy = -14.3010\n",
       "Name: 0, Length: 12742, dtype: object"
      ]
     },
     "execution_count": 41,
     "metadata": {},
     "output_type": "execute_result"
    }
   ],
   "source": [
    "competing_phases"
   ]
  },
  {
   "cell_type": "code",
   "execution_count": 30,
   "id": "9c88d835-ba27-4407-aabc-172823ae73f3",
   "metadata": {},
   "outputs": [],
   "source": [
    "from tqdm import tqdm"
   ]
  },
  {
   "cell_type": "code",
   "execution_count": 43,
   "id": "e9d0585b-bffe-4703-92e7-d9f5769f0340",
   "metadata": {},
   "outputs": [
    {
     "data": {
      "text/html": [
       "<div>\n",
       "<style scoped>\n",
       "    .dataframe tbody tr th:only-of-type {\n",
       "        vertical-align: middle;\n",
       "    }\n",
       "\n",
       "    .dataframe tbody tr th {\n",
       "        vertical-align: top;\n",
       "    }\n",
       "\n",
       "    .dataframe thead th {\n",
       "        text-align: right;\n",
       "    }\n",
       "</style>\n",
       "<table border=\"1\" class=\"dataframe\">\n",
       "  <thead>\n",
       "    <tr style=\"text-align: right;\">\n",
       "      <th></th>\n",
       "      <th>predicted_energy</th>\n",
       "      <th>decomp_energy</th>\n",
       "    </tr>\n",
       "    <tr>\n",
       "      <th>structure</th>\n",
       "      <th></th>\n",
       "      <th></th>\n",
       "    </tr>\n",
       "  </thead>\n",
       "  <tbody>\n",
       "    <tr>\n",
       "      <th>POSCAR_a2e1_205_P2Si1_icsd_024333_P_Pb</th>\n",
       "      <td>-4.302996</td>\n",
       "      <td>0.573989</td>\n",
       "    </tr>\n",
       "    <tr>\n",
       "      <th>POSCAR_a2e1_205_P2Si1_icsd_024333_Sb_Sn</th>\n",
       "      <td>-4.024372</td>\n",
       "      <td>0.067970</td>\n",
       "    </tr>\n",
       "  </tbody>\n",
       "</table>\n",
       "</div>"
      ],
      "text/plain": [
       "                                         predicted_energy  decomp_energy\n",
       "structure                                                               \n",
       "POSCAR_a2e1_205_P2Si1_icsd_024333_P_Pb          -4.302996       0.573989\n",
       "POSCAR_a2e1_205_P2Si1_icsd_024333_Sb_Sn         -4.024372       0.067970"
      ]
     },
     "execution_count": 43,
     "metadata": {},
     "output_type": "execute_result"
    }
   ],
   "source": [
    "# compute the decomposition energies of the structures\n",
    "decomp_energies = {}\n",
    "for s_id, structure in tqdm(structures.items()):\n",
    "    energyperatom = df[df.structure == s_id].predicted_energy.values[0]\n",
    "    try:\n",
    "        decomp_energy, stability_window = convex_hull_stability(\n",
    "                        structure.composition,\n",
    "                        energyperatom,\n",
    "                        competing_phases,\n",
    "                )\n",
    "        decomp_energies[s_id] = decomp_energy\n",
    "    except ValueError as e:\n",
    "        print(f\"ValueError for {s_id}: {e}\")\n",
    "        decomp_energies[s_id] = np.nan\n",
    "    # reward, info = rewarder.compute_reward(comp, energyperatom)\n",
    "    # decomp_energies[s_id] = info['decomp_energy']\n",
    "\n",
    "df = df.set_index('structure')\n",
    "df['decomp_energy'] = decomp_energies\n",
    "df.head(2)"
   ]
  },
  {
   "cell_type": "code",
   "execution_count": 35,
   "id": "b3c20177-576a-428c-b002-b9fcbf33da17",
   "metadata": {},
   "outputs": [
    {
     "name": "stdout",
     "output_type": "stream",
     "text": [
      "72696\n"
     ]
    }
   ],
   "source": [
    "df2 = df.dropna(subset=\"decomp_energy\")\n",
    "print(len(df2))\n",
    "out_file = \"predicted_decomp_energy.csv\"\n",
    "df2.to_csv(out_file)"
   ]
  },
  {
   "cell_type": "markdown",
   "id": "4b7afb4f-9f64-4a20-90fe-6dd0edead938",
   "metadata": {},
   "source": [
    "### UPDATE: cacluate the 'self-consistent' decomposition energy by including the lowest predicted energy for each composition"
   ]
  },
  {
   "cell_type": "code",
   "execution_count": 53,
   "id": "59f0e4b5-a8b4-492a-a202-2604343be033",
   "metadata": {},
   "outputs": [
    {
     "data": {
      "text/html": [
       "<div>\n",
       "<style scoped>\n",
       "    .dataframe tbody tr th:only-of-type {\n",
       "        vertical-align: middle;\n",
       "    }\n",
       "\n",
       "    .dataframe tbody tr th {\n",
       "        vertical-align: top;\n",
       "    }\n",
       "\n",
       "    .dataframe thead th {\n",
       "        text-align: right;\n",
       "    }\n",
       "</style>\n",
       "<table border=\"1\" class=\"dataframe\">\n",
       "  <thead>\n",
       "    <tr style=\"text-align: right;\">\n",
       "      <th></th>\n",
       "      <th>structure</th>\n",
       "      <th>predicted_energy</th>\n",
       "      <th>decomp_energy</th>\n",
       "      <th>composition</th>\n",
       "    </tr>\n",
       "  </thead>\n",
       "  <tbody>\n",
       "    <tr>\n",
       "      <th>0</th>\n",
       "      <td>POSCAR_a2e1_205_P2Si1_icsd_024333_P_Pb</td>\n",
       "      <td>-4.302996</td>\n",
       "      <td>0.573989</td>\n",
       "      <td>P2Pb1</td>\n",
       "    </tr>\n",
       "    <tr>\n",
       "      <th>1</th>\n",
       "      <td>POSCAR_a2e1_205_P2Si1_icsd_024333_Sb_Sn</td>\n",
       "      <td>-4.024372</td>\n",
       "      <td>0.067970</td>\n",
       "      <td>Sb2Sn1</td>\n",
       "    </tr>\n",
       "  </tbody>\n",
       "</table>\n",
       "</div>"
      ],
      "text/plain": [
       "                                 structure  predicted_energy  decomp_energy  \\\n",
       "0   POSCAR_a2e1_205_P2Si1_icsd_024333_P_Pb         -4.302996       0.573989   \n",
       "1  POSCAR_a2e1_205_P2Si1_icsd_024333_Sb_Sn         -4.024372       0.067970   \n",
       "\n",
       "  composition  \n",
       "0       P2Pb1  \n",
       "1      Sb2Sn1  "
      ]
     },
     "execution_count": 53,
     "metadata": {},
     "output_type": "execute_result"
    }
   ],
   "source": [
    "df2[\"composition\"] = df2.structure.apply(lambda s: ''.join(sorted(structures[s].composition.reduced_composition.formula.split(' '))))\n",
    "df2.head(2)"
   ]
  },
  {
   "cell_type": "code",
   "execution_count": 58,
   "id": "86b0a312-8b3a-47aa-8adf-52efc72050a5",
   "metadata": {},
   "outputs": [
    {
     "data": {
      "text/plain": [
       "<Axes: ylabel='Frequency'>"
      ]
     },
     "execution_count": 58,
     "metadata": {},
     "output_type": "execute_result"
    },
    {
     "data": {
      "image/png": "[encoded data removed]",
      "text/plain": [
       "<Figure size 640x480 with 1 Axes>"
      ]
     },
     "metadata": {},
     "output_type": "display_data"
    }
   ],
   "source": [
    "comps_min_energy = df2[[\"composition\", \"decomp_energy\"]].groupby(\"composition\").min()\n",
    "comps_min_energy.decomp_energy.plot.hist(bins=30)"
   ]
  },
  {
   "cell_type": "code",
   "execution_count": 59,
   "id": "41bce6d3-57ca-42c0-9e39-25f76d5c377d",
   "metadata": {},
   "outputs": [
    {
     "data": {
      "text/html": [
       "<div>\n",
       "<style scoped>\n",
       "    .dataframe tbody tr th:only-of-type {\n",
       "        vertical-align: middle;\n",
       "    }\n",
       "\n",
       "    .dataframe tbody tr th {\n",
       "        vertical-align: top;\n",
       "    }\n",
       "\n",
       "    .dataframe thead th {\n",
       "        text-align: right;\n",
       "    }\n",
       "</style>\n",
       "<table border=\"1\" class=\"dataframe\">\n",
       "  <thead>\n",
       "    <tr style=\"text-align: right;\">\n",
       "      <th></th>\n",
       "      <th>composition</th>\n",
       "      <th>decomp_energy</th>\n",
       "    </tr>\n",
       "  </thead>\n",
       "  <tbody>\n",
       "    <tr>\n",
       "      <th>0</th>\n",
       "      <td>Al1As1</td>\n",
       "      <td>-0.406064</td>\n",
       "    </tr>\n",
       "    <tr>\n",
       "      <th>1</th>\n",
       "      <td>Al1As11Ba14</td>\n",
       "      <td>-0.040416</td>\n",
       "    </tr>\n",
       "    <tr>\n",
       "      <th>2</th>\n",
       "      <td>Al1As11Be14</td>\n",
       "      <td>0.471023</td>\n",
       "    </tr>\n",
       "    <tr>\n",
       "      <th>3</th>\n",
       "      <td>Al1As11Ca14</td>\n",
       "      <td>-0.061446</td>\n",
       "    </tr>\n",
       "    <tr>\n",
       "      <th>4</th>\n",
       "      <td>Al1As11Cd14</td>\n",
       "      <td>0.201954</td>\n",
       "    </tr>\n",
       "    <tr>\n",
       "      <th>...</th>\n",
       "      <td>...</td>\n",
       "      <td>...</td>\n",
       "    </tr>\n",
       "    <tr>\n",
       "      <th>41279</th>\n",
       "      <td>Sb9Sr9Zn4</td>\n",
       "      <td>-0.082479</td>\n",
       "    </tr>\n",
       "    <tr>\n",
       "      <th>41280</th>\n",
       "      <td>Sb9Tl1Zn11</td>\n",
       "      <td>0.331916</td>\n",
       "    </tr>\n",
       "    <tr>\n",
       "      <th>41281</th>\n",
       "      <td>Sb9Tl4Zn7</td>\n",
       "      <td>0.826289</td>\n",
       "    </tr>\n",
       "    <tr>\n",
       "      <th>41282</th>\n",
       "      <td>Sb9Zn13</td>\n",
       "      <td>0.216366</td>\n",
       "    </tr>\n",
       "    <tr>\n",
       "      <th>41283</th>\n",
       "      <td>Sb9Zn5</td>\n",
       "      <td>0.968429</td>\n",
       "    </tr>\n",
       "  </tbody>\n",
       "</table>\n",
       "<p>41284 rows × 2 columns</p>\n",
       "</div>"
      ],
      "text/plain": [
       "       composition  decomp_energy\n",
       "0           Al1As1      -0.406064\n",
       "1      Al1As11Ba14      -0.040416\n",
       "2      Al1As11Be14       0.471023\n",
       "3      Al1As11Ca14      -0.061446\n",
       "4      Al1As11Cd14       0.201954\n",
       "...            ...            ...\n",
       "41279    Sb9Sr9Zn4      -0.082479\n",
       "41280   Sb9Tl1Zn11       0.331916\n",
       "41281    Sb9Tl4Zn7       0.826289\n",
       "41282      Sb9Zn13       0.216366\n",
       "41283       Sb9Zn5       0.968429\n",
       "\n",
       "[41284 rows x 2 columns]"
      ]
     },
     "execution_count": 59,
     "metadata": {},
     "output_type": "execute_result"
    }
   ],
   "source": [
    "comps_min_energy = comps_min_energy.reset_index()\n",
    "comps_min_energy"
   ]
  },
  {
   "cell_type": "code",
   "execution_count": 60,
   "id": "7d458f33-95d0-439c-906f-aef8d2eed1ac",
   "metadata": {},
   "outputs": [
    {
     "data": {
      "text/html": [
       "<div>\n",
       "<style scoped>\n",
       "    .dataframe tbody tr th:only-of-type {\n",
       "        vertical-align: middle;\n",
       "    }\n",
       "\n",
       "    .dataframe tbody tr th {\n",
       "        vertical-align: top;\n",
       "    }\n",
       "\n",
       "    .dataframe thead th {\n",
       "        text-align: right;\n",
       "    }\n",
       "</style>\n",
       "<table border=\"1\" class=\"dataframe\">\n",
       "  <thead>\n",
       "    <tr style=\"text-align: right;\">\n",
       "      <th></th>\n",
       "      <th>composition</th>\n",
       "      <th>decomp_energy</th>\n",
       "      <th>predicted_energy</th>\n",
       "    </tr>\n",
       "  </thead>\n",
       "  <tbody>\n",
       "    <tr>\n",
       "      <th>0</th>\n",
       "      <td>Al1As1</td>\n",
       "      <td>-0.406064</td>\n",
       "      <td>-4.516064</td>\n",
       "    </tr>\n",
       "    <tr>\n",
       "      <th>1</th>\n",
       "      <td>Al1As11Ba14</td>\n",
       "      <td>-0.040416</td>\n",
       "      <td>-4.152862</td>\n",
       "    </tr>\n",
       "    <tr>\n",
       "      <th>2</th>\n",
       "      <td>Al1As11Be14</td>\n",
       "      <td>0.471023</td>\n",
       "      <td>-3.677419</td>\n",
       "    </tr>\n",
       "    <tr>\n",
       "      <th>3</th>\n",
       "      <td>Al1As11Ca14</td>\n",
       "      <td>-0.061446</td>\n",
       "      <td>-4.348226</td>\n",
       "    </tr>\n",
       "    <tr>\n",
       "      <th>4</th>\n",
       "      <td>Al1As11Cd14</td>\n",
       "      <td>0.201954</td>\n",
       "      <td>-2.535480</td>\n",
       "    </tr>\n",
       "    <tr>\n",
       "      <th>...</th>\n",
       "      <td>...</td>\n",
       "      <td>...</td>\n",
       "      <td>...</td>\n",
       "    </tr>\n",
       "    <tr>\n",
       "      <th>41279</th>\n",
       "      <td>Sb9Sr9Zn4</td>\n",
       "      <td>-0.082479</td>\n",
       "      <td>-3.446136</td>\n",
       "    </tr>\n",
       "    <tr>\n",
       "      <th>41280</th>\n",
       "      <td>Sb9Tl1Zn11</td>\n",
       "      <td>0.331916</td>\n",
       "      <td>-2.225410</td>\n",
       "    </tr>\n",
       "    <tr>\n",
       "      <th>41281</th>\n",
       "      <td>Sb9Tl4Zn7</td>\n",
       "      <td>0.826289</td>\n",
       "      <td>-1.970948</td>\n",
       "    </tr>\n",
       "    <tr>\n",
       "      <th>41282</th>\n",
       "      <td>Sb9Zn13</td>\n",
       "      <td>0.216366</td>\n",
       "      <td>-2.210576</td>\n",
       "    </tr>\n",
       "    <tr>\n",
       "      <th>41283</th>\n",
       "      <td>Sb9Zn5</td>\n",
       "      <td>0.968429</td>\n",
       "      <td>-2.160118</td>\n",
       "    </tr>\n",
       "  </tbody>\n",
       "</table>\n",
       "<p>41284 rows × 3 columns</p>\n",
       "</div>"
      ],
      "text/plain": [
       "       composition  decomp_energy  predicted_energy\n",
       "0           Al1As1      -0.406064         -4.516064\n",
       "1      Al1As11Ba14      -0.040416         -4.152862\n",
       "2      Al1As11Be14       0.471023         -3.677419\n",
       "3      Al1As11Ca14      -0.061446         -4.348226\n",
       "4      Al1As11Cd14       0.201954         -2.535480\n",
       "...            ...            ...               ...\n",
       "41279    Sb9Sr9Zn4      -0.082479         -3.446136\n",
       "41280   Sb9Tl1Zn11       0.331916         -2.225410\n",
       "41281    Sb9Tl4Zn7       0.826289         -1.970948\n",
       "41282      Sb9Zn13       0.216366         -2.210576\n",
       "41283       Sb9Zn5       0.968429         -2.160118\n",
       "\n",
       "[41284 rows x 3 columns]"
      ]
     },
     "execution_count": 60,
     "metadata": {},
     "output_type": "execute_result"
    }
   ],
   "source": [
    "comps_min_energy[\"predicted_energy\"] = comps_min_energy.apply(lambda row: df2[(df2.composition == row.composition) & (df2.decomp_energy == row.decomp_energy)].predicted_energy.values[0], axis=1)\n",
    "comps_min_energy"
   ]
  },
  {
   "cell_type": "code",
   "execution_count": 75,
   "id": "9086ae82-2349-4fa6-abd8-f5d934471ef0",
   "metadata": {},
   "outputs": [],
   "source": [
    "comps_min_energy[\"structure\"] = comps_min_energy.apply(lambda row: df2[(df2.composition == row.composition) & (df2.decomp_energy == row.decomp_energy)].structure.values[0], axis=1)"
   ]
  },
  {
   "cell_type": "code",
   "execution_count": 67,
   "id": "a5f3f876-95d6-4e9f-8d9b-ae8918a87fa8",
   "metadata": {},
   "outputs": [
    {
     "name": "stdout",
     "output_type": "stream",
     "text": [
      "\t41284 entries\n"
     ]
    }
   ],
   "source": [
    "energy_col = \"predicted_energy\"\n",
    "comp_col = \"composition\"\n",
    "comps_min_energy['energy'] = (\n",
    "    comps_min_energy[energy_col] *\n",
    "    comps_min_energy[comp_col].apply(lambda x: Composition(x).num_atoms)\n",
    ")\n",
    "# convert the dataframe to a list of PDEntries used to create the convex hull\n",
    "pd_entries = comps_min_energy.apply(\n",
    "    lambda row: PDEntry(Composition(row[comp_col]),\n",
    "                        row.energy),\n",
    "    axis=1\n",
    ")\n",
    "print(f\"\\t{len(pd_entries)} entries\")"
   ]
  },
  {
   "cell_type": "code",
   "execution_count": 68,
   "id": "8b4bcb08-e388-4ea4-92c5-45233e65627a",
   "metadata": {},
   "outputs": [
    {
     "data": {
      "text/plain": [
       "12742"
      ]
     },
     "execution_count": 68,
     "metadata": {},
     "output_type": "execute_result"
    }
   ],
   "source": [
    "len(competing_phases)"
   ]
  },
  {
   "cell_type": "code",
   "execution_count": 71,
   "id": "5e5d56a5-758e-404b-a6c1-da0eff5124bc",
   "metadata": {},
   "outputs": [
    {
     "data": {
      "text/plain": [
       "41284"
      ]
     },
     "execution_count": 71,
     "metadata": {},
     "output_type": "execute_result"
    }
   ],
   "source": [
    "len(pd_entries)"
   ]
  },
  {
   "cell_type": "code",
   "execution_count": 72,
   "id": "06a7b475-95fb-4aa5-a716-2463d57eb5a7",
   "metadata": {},
   "outputs": [
    {
     "name": "stdout",
     "output_type": "stream",
     "text": [
      "54026\n"
     ]
    }
   ],
   "source": [
    "competing_phases_wpred = list(competing_phases) + list(pd_entries)\n",
    "print(len(competing_phases_wpred))"
   ]
  },
  {
   "cell_type": "code",
   "execution_count": 73,
   "id": "1a79a17f-0dc2-4326-9c92-317344be6df4",
   "metadata": {},
   "outputs": [
    {
     "data": {
      "text/html": [
       "<div>\n",
       "<style scoped>\n",
       "    .dataframe tbody tr th:only-of-type {\n",
       "        vertical-align: middle;\n",
       "    }\n",
       "\n",
       "    .dataframe tbody tr th {\n",
       "        vertical-align: top;\n",
       "    }\n",
       "\n",
       "    .dataframe thead th {\n",
       "        text-align: right;\n",
       "    }\n",
       "</style>\n",
       "<table border=\"1\" class=\"dataframe\">\n",
       "  <thead>\n",
       "    <tr style=\"text-align: right;\">\n",
       "      <th></th>\n",
       "      <th>structure</th>\n",
       "      <th>predicted_energy</th>\n",
       "      <th>decomp_energy</th>\n",
       "      <th>composition</th>\n",
       "    </tr>\n",
       "  </thead>\n",
       "  <tbody>\n",
       "    <tr>\n",
       "      <th>0</th>\n",
       "      <td>POSCAR_a2e1_205_P2Si1_icsd_024333_P_Pb</td>\n",
       "      <td>-4.302996</td>\n",
       "      <td>0.573989</td>\n",
       "      <td>P2Pb1</td>\n",
       "    </tr>\n",
       "    <tr>\n",
       "      <th>1</th>\n",
       "      <td>POSCAR_a2e1_205_P2Si1_icsd_024333_Sb_Sn</td>\n",
       "      <td>-4.024372</td>\n",
       "      <td>0.067970</td>\n",
       "      <td>Sb2Sn1</td>\n",
       "    </tr>\n",
       "  </tbody>\n",
       "</table>\n",
       "</div>"
      ],
      "text/plain": [
       "                                 structure  predicted_energy  decomp_energy  \\\n",
       "0   POSCAR_a2e1_205_P2Si1_icsd_024333_P_Pb         -4.302996       0.573989   \n",
       "1  POSCAR_a2e1_205_P2Si1_icsd_024333_Sb_Sn         -4.024372       0.067970   \n",
       "\n",
       "  composition  \n",
       "0       P2Pb1  \n",
       "1      Sb2Sn1  "
      ]
     },
     "execution_count": 73,
     "metadata": {},
     "output_type": "execute_result"
    }
   ],
   "source": [
    "df2.head(2)"
   ]
  },
  {
   "cell_type": "code",
   "execution_count": null,
   "id": "ec691164-fa1f-451d-9b7b-9680f6108616",
   "metadata": {},
   "outputs": [],
   "source": [
    "# compute the decomposition energies of the structures\n",
    "decomp_energies = {}\n",
    "for s_id, energyperatom in tqdm(df2[[\"structure\", \"predicted_energy\"]].values):\n",
    "    structure = structures[s_id]\n",
    "    try:\n",
    "        decomp_energy, stability_window = convex_hull_stability(\n",
    "                        structure.composition,\n",
    "                        energyperatom,\n",
    "                        competing_phases_wpred,\n",
    "                )\n",
    "        decomp_energies[s_id] = decomp_energy\n",
    "    except ValueError as e:\n",
    "        print(f\"ValueError for {s_id}: {e}\")\n",
    "        decomp_energies[s_id] = np.nan\n",
    "    # reward, info = rewarder.compute_reward(comp, energyperatom)\n",
    "    # decomp_energies[s_id] = info['decomp_energy']"
   ]
  },
  {
   "cell_type": "code",
   "execution_count": 77,
   "id": "17f197bd-81e7-4427-a658-9e07888ec075",
   "metadata": {},
   "outputs": [
    {
     "data": {
      "text/html": [
       "<div>\n",
       "<style scoped>\n",
       "    .dataframe tbody tr th:only-of-type {\n",
       "        vertical-align: middle;\n",
       "    }\n",
       "\n",
       "    .dataframe tbody tr th {\n",
       "        vertical-align: top;\n",
       "    }\n",
       "\n",
       "    .dataframe thead th {\n",
       "        text-align: right;\n",
       "    }\n",
       "</style>\n",
       "<table border=\"1\" class=\"dataframe\">\n",
       "  <thead>\n",
       "    <tr style=\"text-align: right;\">\n",
       "      <th></th>\n",
       "      <th>composition</th>\n",
       "      <th>decomp_energy</th>\n",
       "      <th>predicted_energy</th>\n",
       "      <th>structure</th>\n",
       "    </tr>\n",
       "  </thead>\n",
       "  <tbody>\n",
       "    <tr>\n",
       "      <th>0</th>\n",
       "      <td>Al1As1</td>\n",
       "      <td>-0.406064</td>\n",
       "      <td>-4.516064</td>\n",
       "      <td>POSCAR_a1d1_186_In1Sb1_icsd_190430_As_Al</td>\n",
       "    </tr>\n",
       "    <tr>\n",
       "      <th>1</th>\n",
       "      <td>Al1As11Ba14</td>\n",
       "      <td>-0.040416</td>\n",
       "      <td>-4.152862</td>\n",
       "      <td>POSCAR_a11c14d1_142_Al1Ca14Sb11_icsd_033266_As...</td>\n",
       "    </tr>\n",
       "  </tbody>\n",
       "</table>\n",
       "</div>"
      ],
      "text/plain": [
       "   composition  decomp_energy  predicted_energy  \\\n",
       "0       Al1As1      -0.406064         -4.516064   \n",
       "1  Al1As11Ba14      -0.040416         -4.152862   \n",
       "\n",
       "                                           structure  \n",
       "0           POSCAR_a1d1_186_In1Sb1_icsd_190430_As_Al  \n",
       "1  POSCAR_a11c14d1_142_Al1Ca14Sb11_icsd_033266_As...  "
      ]
     },
     "execution_count": 77,
     "metadata": {},
     "output_type": "execute_result"
    }
   ],
   "source": [
    "df_sc = comps_min_energy.copy()\n",
    "df_sc.drop(columns=\"energy\", inplace=True)\n",
    "df_sc.head(2)"
   ]
  },
  {
   "cell_type": "code",
   "execution_count": 78,
   "id": "d36320a2-c43d-4ccc-a331-4688b2f4cd68",
   "metadata": {},
   "outputs": [
    {
     "data": {
      "text/html": [
       "<div>\n",
       "<style scoped>\n",
       "    .dataframe tbody tr th:only-of-type {\n",
       "        vertical-align: middle;\n",
       "    }\n",
       "\n",
       "    .dataframe tbody tr th {\n",
       "        vertical-align: top;\n",
       "    }\n",
       "\n",
       "    .dataframe thead th {\n",
       "        text-align: right;\n",
       "    }\n",
       "</style>\n",
       "<table border=\"1\" class=\"dataframe\">\n",
       "  <thead>\n",
       "    <tr style=\"text-align: right;\">\n",
       "      <th></th>\n",
       "      <th>composition</th>\n",
       "      <th>decomp_energy</th>\n",
       "      <th>predicted_energy</th>\n",
       "    </tr>\n",
       "    <tr>\n",
       "      <th>structure</th>\n",
       "      <th></th>\n",
       "      <th></th>\n",
       "      <th></th>\n",
       "    </tr>\n",
       "  </thead>\n",
       "  <tbody>\n",
       "    <tr>\n",
       "      <th>POSCAR_a1d1_186_In1Sb1_icsd_190430_As_Al</th>\n",
       "      <td>Al1As1</td>\n",
       "      <td>-0.406064</td>\n",
       "      <td>-4.516064</td>\n",
       "    </tr>\n",
       "    <tr>\n",
       "      <th>POSCAR_a11c14d1_142_Al1Ca14Sb11_icsd_033266_As_Ba_Al</th>\n",
       "      <td>Al1As11Ba14</td>\n",
       "      <td>0.050697</td>\n",
       "      <td>-4.152862</td>\n",
       "    </tr>\n",
       "  </tbody>\n",
       "</table>\n",
       "</div>"
      ],
      "text/plain": [
       "                                                    composition  \\\n",
       "structure                                                         \n",
       "POSCAR_a1d1_186_In1Sb1_icsd_190430_As_Al                 Al1As1   \n",
       "POSCAR_a11c14d1_142_Al1Ca14Sb11_icsd_033266_As_...  Al1As11Ba14   \n",
       "\n",
       "                                                    decomp_energy  \\\n",
       "structure                                                           \n",
       "POSCAR_a1d1_186_In1Sb1_icsd_190430_As_Al                -0.406064   \n",
       "POSCAR_a11c14d1_142_Al1Ca14Sb11_icsd_033266_As_...       0.050697   \n",
       "\n",
       "                                                    predicted_energy  \n",
       "structure                                                             \n",
       "POSCAR_a1d1_186_In1Sb1_icsd_190430_As_Al                   -4.516064  \n",
       "POSCAR_a11c14d1_142_Al1Ca14Sb11_icsd_033266_As_...         -4.152862  "
      ]
     },
     "execution_count": 78,
     "metadata": {},
     "output_type": "execute_result"
    }
   ],
   "source": [
    "df_sc = df_sc.set_index('structure')\n",
    "df_sc['decomp_energy'] = decomp_energies\n",
    "df_sc.head(2)"
   ]
  },
  {
   "cell_type": "code",
   "execution_count": 80,
   "id": "16cb36c3-26f7-4d78-be8a-aaf4a7aa2836",
   "metadata": {},
   "outputs": [
    {
     "data": {
      "text/html": [
       "<div>\n",
       "<style scoped>\n",
       "    .dataframe tbody tr th:only-of-type {\n",
       "        vertical-align: middle;\n",
       "    }\n",
       "\n",
       "    .dataframe tbody tr th {\n",
       "        vertical-align: top;\n",
       "    }\n",
       "\n",
       "    .dataframe thead th {\n",
       "        text-align: right;\n",
       "    }\n",
       "</style>\n",
       "<table border=\"1\" class=\"dataframe\">\n",
       "  <thead>\n",
       "    <tr style=\"text-align: right;\">\n",
       "      <th></th>\n",
       "      <th>composition</th>\n",
       "      <th>decomp_energy</th>\n",
       "      <th>predicted_energy</th>\n",
       "    </tr>\n",
       "    <tr>\n",
       "      <th>structure</th>\n",
       "      <th></th>\n",
       "      <th></th>\n",
       "      <th></th>\n",
       "    </tr>\n",
       "  </thead>\n",
       "  <tbody>\n",
       "    <tr>\n",
       "      <th>POSCAR_a1d1_186_In1Sb1_icsd_190430_As_Al</th>\n",
       "      <td>Al1As1</td>\n",
       "      <td>-0.406064</td>\n",
       "      <td>-4.516064</td>\n",
       "    </tr>\n",
       "    <tr>\n",
       "      <th>POSCAR_a11c14d1_142_Al1Ca14Sb11_icsd_033266_As_Ca_Al</th>\n",
       "      <td>Al1As11Ca14</td>\n",
       "      <td>-0.026320</td>\n",
       "      <td>-4.348226</td>\n",
       "    </tr>\n",
       "    <tr>\n",
       "      <th>POSCAR_a11c14d1_142_Al1Ca14Sb11_icsd_033266_As_Sr_Al</th>\n",
       "      <td>Al1As11Sr14</td>\n",
       "      <td>0.035193</td>\n",
       "      <td>-4.088831</td>\n",
       "    </tr>\n",
       "    <tr>\n",
       "      <th>POSCAR_a2b2d1_14_As2Ga1K2_icsd_300142_Cs_As_Al</th>\n",
       "      <td>Al1As2Cs2</td>\n",
       "      <td>0.018773</td>\n",
       "      <td>-3.406930</td>\n",
       "    </tr>\n",
       "    <tr>\n",
       "      <th>POSCAR_a2b1b2d1_72_Al1As2K2Na1_icsd_073280_K_Cs_As_Al</th>\n",
       "      <td>Al1As2Cs2K1</td>\n",
       "      <td>0.011740</td>\n",
       "      <td>-3.107215</td>\n",
       "    </tr>\n",
       "    <tr>\n",
       "      <th>...</th>\n",
       "      <td>...</td>\n",
       "      <td>...</td>\n",
       "      <td>...</td>\n",
       "    </tr>\n",
       "    <tr>\n",
       "      <th>POSCAR_a8c11e2_139_Bi8Sn2Yb11_icsd_263134_Sr_Sb_Sn</th>\n",
       "      <td>Sb8Sn2Sr11</td>\n",
       "      <td>0.024776</td>\n",
       "      <td>-3.772164</td>\n",
       "    </tr>\n",
       "    <tr>\n",
       "      <th>POSCAR_a14c11c8_12_Ba11Bi14Cd8_icsd_240338_Sb_Zn_Sr</th>\n",
       "      <td>Sb8Sr11Zn14</td>\n",
       "      <td>-0.108760</td>\n",
       "      <td>-2.677696</td>\n",
       "    </tr>\n",
       "    <tr>\n",
       "      <th>POSCAR_a9c10c2_136_Ca10Mg2Sb9_icsd_171162_Sb_Sr_Sn</th>\n",
       "      <td>Sb9Sn2Sr10</td>\n",
       "      <td>0.020709</td>\n",
       "      <td>-3.829318</td>\n",
       "    </tr>\n",
       "    <tr>\n",
       "      <th>POSCAR_a9c11d1_45_Ca11In1Sb9_icsd_042371_Sb_Sr_Tl</th>\n",
       "      <td>Sb9Sr11Tl1</td>\n",
       "      <td>-0.000449</td>\n",
       "      <td>-3.737736</td>\n",
       "    </tr>\n",
       "    <tr>\n",
       "      <th>POSCAR_a9c4c9_55_Bi9Cd4Sr9_icsd_058763_Sr_Sb_Zn</th>\n",
       "      <td>Sb9Sr9Zn4</td>\n",
       "      <td>0.020294</td>\n",
       "      <td>-3.446136</td>\n",
       "    </tr>\n",
       "  </tbody>\n",
       "</table>\n",
       "<p>4831 rows × 3 columns</p>\n",
       "</div>"
      ],
      "text/plain": [
       "                                                    composition  \\\n",
       "structure                                                         \n",
       "POSCAR_a1d1_186_In1Sb1_icsd_190430_As_Al                 Al1As1   \n",
       "POSCAR_a11c14d1_142_Al1Ca14Sb11_icsd_033266_As_...  Al1As11Ca14   \n",
       "POSCAR_a11c14d1_142_Al1Ca14Sb11_icsd_033266_As_...  Al1As11Sr14   \n",
       "POSCAR_a2b2d1_14_As2Ga1K2_icsd_300142_Cs_As_Al        Al1As2Cs2   \n",
       "POSCAR_a2b1b2d1_72_Al1As2K2Na1_icsd_073280_K_Cs...  Al1As2Cs2K1   \n",
       "...                                                         ...   \n",
       "POSCAR_a8c11e2_139_Bi8Sn2Yb11_icsd_263134_Sr_Sb_Sn   Sb8Sn2Sr11   \n",
       "POSCAR_a14c11c8_12_Ba11Bi14Cd8_icsd_240338_Sb_Z...  Sb8Sr11Zn14   \n",
       "POSCAR_a9c10c2_136_Ca10Mg2Sb9_icsd_171162_Sb_Sr_Sn   Sb9Sn2Sr10   \n",
       "POSCAR_a9c11d1_45_Ca11In1Sb9_icsd_042371_Sb_Sr_Tl    Sb9Sr11Tl1   \n",
       "POSCAR_a9c4c9_55_Bi9Cd4Sr9_icsd_058763_Sr_Sb_Zn       Sb9Sr9Zn4   \n",
       "\n",
       "                                                    decomp_energy  \\\n",
       "structure                                                           \n",
       "POSCAR_a1d1_186_In1Sb1_icsd_190430_As_Al                -0.406064   \n",
       "POSCAR_a11c14d1_142_Al1Ca14Sb11_icsd_033266_As_...      -0.026320   \n",
       "POSCAR_a11c14d1_142_Al1Ca14Sb11_icsd_033266_As_...       0.035193   \n",
       "POSCAR_a2b2d1_14_As2Ga1K2_icsd_300142_Cs_As_Al           0.018773   \n",
       "POSCAR_a2b1b2d1_72_Al1As2K2Na1_icsd_073280_K_Cs...       0.011740   \n",
       "...                                                           ...   \n",
       "POSCAR_a8c11e2_139_Bi8Sn2Yb11_icsd_263134_Sr_Sb_Sn       0.024776   \n",
       "POSCAR_a14c11c8_12_Ba11Bi14Cd8_icsd_240338_Sb_Z...      -0.108760   \n",
       "POSCAR_a9c10c2_136_Ca10Mg2Sb9_icsd_171162_Sb_Sr_Sn       0.020709   \n",
       "POSCAR_a9c11d1_45_Ca11In1Sb9_icsd_042371_Sb_Sr_Tl       -0.000449   \n",
       "POSCAR_a9c4c9_55_Bi9Cd4Sr9_icsd_058763_Sr_Sb_Zn          0.020294   \n",
       "\n",
       "                                                    predicted_energy  \n",
       "structure                                                             \n",
       "POSCAR_a1d1_186_In1Sb1_icsd_190430_As_Al                   -4.516064  \n",
       "POSCAR_a11c14d1_142_Al1Ca14Sb11_icsd_033266_As_...         -4.348226  \n",
       "POSCAR_a11c14d1_142_Al1Ca14Sb11_icsd_033266_As_...         -4.088831  \n",
       "POSCAR_a2b2d1_14_As2Ga1K2_icsd_300142_Cs_As_Al             -3.406930  \n",
       "POSCAR_a2b1b2d1_72_Al1As2K2Na1_icsd_073280_K_Cs...         -3.107215  \n",
       "...                                                              ...  \n",
       "POSCAR_a8c11e2_139_Bi8Sn2Yb11_icsd_263134_Sr_Sb_Sn         -3.772164  \n",
       "POSCAR_a14c11c8_12_Ba11Bi14Cd8_icsd_240338_Sb_Z...         -2.677696  \n",
       "POSCAR_a9c10c2_136_Ca10Mg2Sb9_icsd_171162_Sb_Sr_Sn         -3.829318  \n",
       "POSCAR_a9c11d1_45_Ca11In1Sb9_icsd_042371_Sb_Sr_Tl          -3.737736  \n",
       "POSCAR_a9c4c9_55_Bi9Cd4Sr9_icsd_058763_Sr_Sb_Zn            -3.446136  \n",
       "\n",
       "[4831 rows x 3 columns]"
      ]
     },
     "execution_count": 80,
     "metadata": {},
     "output_type": "execute_result"
    }
   ],
   "source": [
    "df_sc[df_sc.decomp_energy < 0.05]"
   ]
  },
  {
   "cell_type": "code",
   "execution_count": 81,
   "id": "d140ab4a-11ed-4e87-b358-028e1c78968b",
   "metadata": {},
   "outputs": [
    {
     "name": "stdout",
     "output_type": "stream",
     "text": [
      "1685\n"
     ]
    }
   ],
   "source": [
    "print(len(df_sc[df_sc.decomp_energy < 0]))\n",
    "df_sc.to_csv(\"predicted_decomp_energy_self_consisitent.csv\")"
   ]
  }
 ],
 "metadata": {
  "kernelspec": {
   "display_name": "Python 3 (ipykernel)",
   "language": "python",
   "name": "python3"
  },
  "language_info": {
   "codemirror_mode": {
    "name": "ipython",
    "version": 3
   },
   "file_extension": ".py",
   "mimetype": "text/x-python",
   "name": "python",
   "nbconvert_exporter": "python",
   "pygments_lexer": "ipython3",
   "version": "3.10.8"
  }
 },
 "nbformat": 4,
 "nbformat_minor": 5
}
