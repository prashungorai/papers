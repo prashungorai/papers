{
 "cells": [
  {
   "cell_type": "code",
   "execution_count": 1,
   "id": "e2590930-f8fe-4d56-a848-2a769b96d550",
   "metadata": {},
   "outputs": [],
   "source": [
    "import json\n",
    "import gzip\n",
    "import numpy as np\n",
    "import pandas as pd\n",
    "from pathlib import Path\n",
    "from distutils.log import warn\n",
    "from tqdm.notebook import tqdm\n",
    "\n",
    "from pymatgen.core import Composition, Structure\n",
    "from pymatgen.analysis.phase_diagram import PhaseDiagram, PDEntry\n",
    "\n",
    "tqdm.pandas()"
   ]
  },
  {
   "cell_type": "code",
   "execution_count": 2,
   "id": "fd748a9f-d0a7-400e-b8da-ffb11572ab73",
   "metadata": {},
   "outputs": [
    {
     "name": "stderr",
     "output_type": "stream",
     "text": [
      "2025-06-11 11:36:38.652632: I tensorflow/core/platform/cpu_feature_guard.cc:193] This TensorFlow binary is optimized with oneAPI Deep Neural Network Library (oneDNN) to use the following CPU instructions in performance-critical operations:  SSE4.1 SSE4.2 AVX AVX2 AVX512F AVX512_VNNI AVX512_BF16 AVX_VNNI AMX_TILE AMX_INT8 AMX_BF16 FMA\n",
      "To enable them in other operations, rebuild TensorFlow with the appropriate compiler flags.\n",
      "2025-06-11 11:36:38.739883: I tensorflow/core/util/util.cc:169] oneDNN custom operations are on. You may see slightly different numerical results due to floating-point round-off errors from different computation orders. To turn them off, set the environment variable `TF_ENABLE_ONEDNN_OPTS=0`.\n",
      "/home/jlaw/.conda-envs/crystals/lib/python3.10/site-packages/tensorflow_addons/utils/tfa_eol_msg.py:23: UserWarning: \n",
      "\n",
      "TensorFlow Addons (TFA) has ended development and introduction of new features.\n",
      "TFA has entered a minimal maintenance and release mode until a planned end of life in May 2024.\n",
      "Please modify downstream libraries to take dependencies from other repositories in our TensorFlow community (e.g. Keras, Keras-CV, and Keras-NLP). \n",
      "\n",
      "For more information see: https://github.com/tensorflow/addons/issues/2807 \n",
      "\n",
      "  warnings.warn(\n",
      "/home/jlaw/.conda-envs/crystals/lib/python3.10/site-packages/tensorflow_addons/utils/ensure_tf_install.py:53: UserWarning: Tensorflow Addons supports using Python ops for all Tensorflow versions above or equal to 2.13.0 and strictly below 2.16.0 (nightly versions are not supported). \n",
      " The versions of TensorFlow you are currently using is 2.10.0 and is not supported. \n",
      "Some things might work, some things might not.\n",
      "If you were to encounter a bug, do not file an issue.\n",
      "If you want to make sure you're using a tested and supported configuration, either change the TensorFlow version or the TensorFlow Addons's version. \n",
      "You can find the compatibility matrix in TensorFlow Addon's readme:\n",
      "https://github.com/tensorflow/addons\n",
      "  warnings.warn(\n"
     ]
    }
   ],
   "source": [
    "import tensorflow as tf\n",
    "import tensorflow_addons as tfa\n",
    "import nfp\n",
    "from nfp import custom_objects\n",
    "from nfp.layers import RBFExpansion"
   ]
  },
  {
   "cell_type": "code",
   "execution_count": 3,
   "id": "21b8e892-ac72-4326-a289-5a396a7569c5",
   "metadata": {},
   "outputs": [],
   "source": [
    "from ubem_training_pretrained_model.preprocess import preprocessor"
   ]
  },
  {
   "cell_type": "code",
   "execution_count": 4,
   "id": "43dd3aa0-c423-468e-8184-c3107f582d3b",
   "metadata": {},
   "outputs": [
    {
     "name": "stdout",
     "output_type": "stream",
     "text": [
      "pd.__version__ = '1.5.3'\n",
      "np.__version__ = '1.26.4'\n",
      "tf.__version__ = '2.10.0'\n",
      "nfp.__version__ = '0.3.12'\n"
     ]
    }
   ],
   "source": [
    "# since package versions may be important\n",
    "print(f\"{pd.__version__ = }\")\n",
    "print(f\"{np.__version__ = }\")\n",
    "print(f\"{tf.__version__ = }\")\n",
    "print(f\"{nfp.__version__ = }\")"
   ]
  },
  {
   "cell_type": "code",
   "execution_count": 5,
   "id": "1d02fe0a-33f4-46e8-be87-45874251c8ca",
   "metadata": {},
   "outputs": [
    {
     "name": "stdout",
     "output_type": "stream",
     "text": [
      "Name: pymatgen\n",
      "Version: 2024.2.8\n",
      "Summary: Python Materials Genomics is a robust materials analysis code that defines core object representations for structures and molecules with support for many electronic structure codes. It is currently the core analysis code powering the Materials Project (https://materialsproject.org).\n",
      "Home-page: https://pymatgen.org\n",
      "Author: Pymatgen Development Team\n",
      "Author-email: ongsp@ucsd.edu\n",
      "License: MIT\n",
      "Location: /home/jlaw/.conda-envs/crystals/lib/python3.10/site-packages\n",
      "Requires: joblib, matplotlib, monty, networkx, numpy, palettable, pandas, plotly, pybtex, requests, ruamel.yaml, scipy, spglib, sympy, tabulate, tqdm, uncertainties\n",
      "Required-by: matminer\n"
     ]
    }
   ],
   "source": [
    "# Not sure which variable pymatgen uses for its version,\n",
    "# so print it with pip\n",
    "!pip show pymatgen"
   ]
  },
  {
   "cell_type": "markdown",
   "id": "063aba89-5821-4c58-af0d-c8bb77eeafd3",
   "metadata": {},
   "source": [
    "## Predict the total energy\n",
    "- This model has been trained with the ICSD and volume-relaxed datasets\n",
    "- This means it will predict the total energy of a structure in its given state\n",
    "  - if the structure is unrelaxed, the energy predicted will be an upper-bound for the energy after relaxation"
   ]
  },
  {
   "cell_type": "code",
   "execution_count": null,
   "id": "8d073bc5-cfd1-4931-89d5-5ff179068dee",
   "metadata": {},
   "outputs": [],
   "source": [
    "# first need to download the model using git-lfs \n",
    "# then, unzip\n",
    "!gunzip ubem_training_pretrained_model/best_model.hdf5.gz"
   ]
  },
  {
   "cell_type": "code",
   "execution_count": 7,
   "id": "a60f5ca8-38f5-46b9-a33b-b49cf751dde6",
   "metadata": {},
   "outputs": [
    {
     "name": "stdout",
     "output_type": "stream",
     "text": [
      "loading ubem_training_pretrained_model/best_model.hdf5\n"
     ]
    }
   ],
   "source": [
    "# Load the tensorflow model for predicting the total energy of a given structure\n",
    "energy_model_file = Path(\"ubem_training_pretrained_model/best_model.hdf5\")\n",
    "print(f\"loading {energy_model_file}\")\n",
    "energy_model = tf.keras.models.load_model(energy_model_file,\n",
    "                                          custom_objects={**custom_objects,\n",
    "                                                          **{'RBFExpansion': RBFExpansion}})"
   ]
  },
  {
   "cell_type": "markdown",
   "id": "26730cb9-1194-4f78-8973-79a58b16abd6",
   "metadata": {},
   "source": [
    "Here's an example of how to predict the energy for a structure"
   ]
  },
  {
   "cell_type": "code",
   "execution_count": 8,
   "id": "0389b35c-34aa-427c-9754-48fae05aa72c",
   "metadata": {},
   "outputs": [],
   "source": [
    "# Here we define some convenience functions for preprocessing structures and generating predictions\n",
    "def get_structures(structures_file):\n",
    "    \"\"\" Load and preprocess structures from a pymatgen json.gz file\n",
    "    \"\"\"\n",
    "    print(f\"Reading {structures_file}\")\n",
    "    with gzip.open(structures_file, \"rb\") as f:\n",
    "        for entry in tqdm(json.loads(f.read().decode())):\n",
    "            key = entry[\"id\"]\n",
    "            structure_dict = entry[\"structure\"]\n",
    "            structure = Structure.from_dict(structure_dict)\n",
    "            yield {\"id\": key, \"structure\": structure}\n",
    "\n",
    "\n",
    "def preprocess_structure(structure):\n",
    "    inputs = preprocessor(structure)\n",
    "    # scale structures to a minimum of 1A interatomic distance\n",
    "    min_distance = inputs[\"distance\"].min()\n",
    "    if np.isclose(min_distance, 0):\n",
    "        warn(f\"Error with {row.id}\")\n",
    "        return None\n",
    "\n",
    "    scale_factor = 1.0 / inputs[\"distance\"].min()\n",
    "    inputs[\"distance\"] *= scale_factor\n",
    "    return inputs\n",
    "\n",
    "\n",
    "def build_dataset(structures, batch_size=8):\n",
    "    dataset = tf.data.Dataset.from_generator(\n",
    "        lambda: (preprocess_structure(s) for s in structures),\n",
    "        output_signature=(preprocessor.output_signature),\n",
    "        ).padded_batch(\n",
    "            batch_size=batch_size,\n",
    "            padding_values=(preprocessor.padding_values),\n",
    "        )\n",
    "    return dataset\n",
    "\n",
    "\n",
    "def predict_energy(energy_model, structures):\n",
    "    dataset = build_dataset(structures)\n",
    "    predicted_energy = energy_model.predict(dataset)\n",
    "    return predicted_energy.flatten()"
   ]
  },
  {
   "cell_type": "code",
   "execution_count": 9,
   "id": "e00e20f5-bf74-4661-b830-6bbc2e316b1b",
   "metadata": {},
   "outputs": [
    {
     "data": {
      "text/plain": [
       "Structure Summary\n",
       "Lattice\n",
       "    abc : 6.31324215781406 4.129266345748309 6.313262245757987\n",
       " angles : 89.99981298298509 115.93116321347914 90.00022269721498\n",
       " volume : 148.01081824725688\n",
       "      A : 6.31320261273 -1.29824151174e-05 -0.0223453272811\n",
       "      B : -7.5462453492e-06 4.12926634574 3.4182060174e-06\n",
       "      C : -2.74061976372 1.08903819355e-05 5.6873793169\n",
       "    pbc : True True True\n",
       "PeriodicSite: Li (3.157, 3.875, -0.01117) [0.5, 0.9384, 2.76e-08]\n",
       "PeriodicSite: Sc (3.205, 3.879, 3.917) [0.8081, 0.9394, 0.6919]\n",
       "PeriodicSite: Sc (0.3672, 3.879, 1.748) [0.1919, 0.9394, 0.3081]\n",
       "PeriodicSite: F (1.041, 3.878, 3.808) [0.4563, 0.9392, 0.6713]\n",
       "PeriodicSite: F (2.532, 3.878, 1.857) [0.5437, 0.9392, 0.3287]\n",
       "PeriodicSite: F (5.112, 3.878, 0.2302) [0.8287, 0.9392, 0.04373]\n",
       "PeriodicSite: F (-1.54, 3.878, 5.435) [0.1713, 0.9392, 0.9563]\n",
       "PeriodicSite: F (3.154, 1.814, 3.949) [0.8024, 0.4394, 0.6976]\n",
       "PeriodicSite: F (0.4188, 1.814, 1.716) [0.1976, 0.4394, 0.3024]\n",
       "PeriodicSite: F (-1.37, 3.881, 2.844) [2.734e-08, 0.9399, 0.5]"
      ]
     },
     "execution_count": 9,
     "metadata": {},
     "output_type": "execute_result"
    }
   ],
   "source": [
    "# Load an example structure from file. \n",
    "structure_file = \"ubem_training_pretrained_model/inputs/POSCAR_example\"\n",
    "structure = Structure.from_file(structure_file)\n",
    "structure"
   ]
  },
  {
   "cell_type": "code",
   "execution_count": 10,
   "id": "3ae9a9b8-b962-4d3d-9f9d-0037eafa8a77",
   "metadata": {},
   "outputs": [
    {
     "name": "stdout",
     "output_type": "stream",
     "text": [
      "      1/Unknown - 1s 1s/step"
     ]
    },
    {
     "name": "stderr",
     "output_type": "stream",
     "text": [
      "2025-06-11 11:38:14.502288: I tensorflow/stream_executor/cuda/cuda_blas.cc:1614] TensorFloat-32 will be used for the matrix multiplication. This will only be logged once.\n"
     ]
    },
    {
     "name": "stdout",
     "output_type": "stream",
     "text": [
      "1/1 [==============================] - 2s 2s/step\n"
     ]
    },
    {
     "data": {
      "text/plain": [
       "array([-0.27297476], dtype=float32)"
      ]
     },
     "execution_count": 10,
     "metadata": {},
     "output_type": "execute_result"
    }
   ],
   "source": [
    "predicted_energies = predict_energy(energy_model, [structure])\n",
    "predicted_energies"
   ]
  },
  {
   "cell_type": "markdown",
   "id": "c1c55d9c-7fd0-41b1-8133-b514071b085f",
   "metadata": {},
   "source": [
    "### Make predictions for the entire zintl space\n",
    "Load the decorated structures and run them through the model"
   ]
  },
  {
   "cell_type": "code",
   "execution_count": 11,
   "id": "9d442849-908d-43b8-8023-e95ed3776fbf",
   "metadata": {},
   "outputs": [
    {
     "name": "stdout",
     "output_type": "stream",
     "text": [
      "Reading decorations_prototypes.json.gz\n"
     ]
    },
    {
     "data": {
      "application/vnd.jupyter.widget-view+json": {
       "model_id": "67766bb9f1c74db49eb62cd7f00a4d27",
       "version_major": 2,
       "version_minor": 0
      },
      "text/plain": [
       "  0%|          | 0/90856 [00:00<?, ?it/s]"
      ]
     },
     "metadata": {},
     "output_type": "display_data"
    },
    {
     "name": "stdout",
     "output_type": "stream",
     "text": [
      "90856\n"
     ]
    }
   ],
   "source": [
    "structures = list(get_structures(\"decorations_prototypes.json.gz\"))\n",
    "print(len(structures))"
   ]
  },
  {
   "cell_type": "code",
   "execution_count": 12,
   "id": "7255a501-aa7c-4cea-8b0a-e05cb4d47e53",
   "metadata": {},
   "outputs": [],
   "source": [
    "structures = {row[\"id\"]: row[\"structure\"] for row in structures}"
   ]
  },
  {
   "cell_type": "code",
   "execution_count": 13,
   "id": "8be9415e-1086-4973-9945-19125d359c20",
   "metadata": {},
   "outputs": [
    {
     "name": "stdout",
     "output_type": "stream",
     "text": [
      "2/2 [==============================] - 0s 63ms/step\n"
     ]
    },
    {
     "data": {
      "text/plain": [
       "array([-4.302996 , -4.0243497, -5.312324 , -4.000423 , -4.379902 ,\n",
       "       -4.5538793, -4.0985417, -3.9308417, -4.218911 , -4.132236 ],\n",
       "      dtype=float32)"
      ]
     },
     "execution_count": 13,
     "metadata": {},
     "output_type": "execute_result"
    }
   ],
   "source": [
    "# just show the first 10 as an example\n",
    "predicted_energies = predict_energy(energy_model, list(structures.values())[:10])\n",
    "predicted_energies"
   ]
  },
  {
   "cell_type": "code",
   "execution_count": 14,
   "id": "232b2408-723e-470b-b027-bf99bf18ee9d",
   "metadata": {},
   "outputs": [
    {
     "data": {
      "text/html": [
       "<div>\n",
       "<style scoped>\n",
       "    .dataframe tbody tr th:only-of-type {\n",
       "        vertical-align: middle;\n",
       "    }\n",
       "\n",
       "    .dataframe tbody tr th {\n",
       "        vertical-align: top;\n",
       "    }\n",
       "\n",
       "    .dataframe thead th {\n",
       "        text-align: right;\n",
       "    }\n",
       "</style>\n",
       "<table border=\"1\" class=\"dataframe\">\n",
       "  <thead>\n",
       "    <tr style=\"text-align: right;\">\n",
       "      <th></th>\n",
       "      <th>structure</th>\n",
       "      <th>predicted_energy</th>\n",
       "    </tr>\n",
       "  </thead>\n",
       "  <tbody>\n",
       "    <tr>\n",
       "      <th>0</th>\n",
       "      <td>POSCAR_a2e1_205_P2Si1_icsd_024333_P_Pb</td>\n",
       "      <td>-4.302996</td>\n",
       "    </tr>\n",
       "    <tr>\n",
       "      <th>1</th>\n",
       "      <td>POSCAR_a2e1_205_P2Si1_icsd_024333_Sb_Sn</td>\n",
       "      <td>-4.02435</td>\n",
       "    </tr>\n",
       "    <tr>\n",
       "      <th>2</th>\n",
       "      <td>POSCAR_a2e1_205_P2Si1_icsd_024333_P_Si</td>\n",
       "      <td>-5.312324</td>\n",
       "    </tr>\n",
       "    <tr>\n",
       "      <th>3</th>\n",
       "      <td>POSCAR_a2e1_205_P2Si1_icsd_024333_Bi_Ge</td>\n",
       "      <td>-4.000423</td>\n",
       "    </tr>\n",
       "    <tr>\n",
       "      <th>4</th>\n",
       "      <td>POSCAR_a2e1_205_P2Si1_icsd_024333_As_Sn</td>\n",
       "      <td>-4.379902</td>\n",
       "    </tr>\n",
       "    <tr>\n",
       "      <th>5</th>\n",
       "      <td>POSCAR_a2e1_205_P2Si1_icsd_024333_As_Ge</td>\n",
       "      <td>-4.553879</td>\n",
       "    </tr>\n",
       "    <tr>\n",
       "      <th>6</th>\n",
       "      <td>POSCAR_a2e1_205_P2Si1_icsd_024333_Bi_Si</td>\n",
       "      <td>-4.098542</td>\n",
       "    </tr>\n",
       "    <tr>\n",
       "      <th>7</th>\n",
       "      <td>POSCAR_a2e1_205_P2Si1_icsd_024333_Bi_Sn</td>\n",
       "      <td>-3.930842</td>\n",
       "    </tr>\n",
       "    <tr>\n",
       "      <th>8</th>\n",
       "      <td>POSCAR_a2e1_205_P2Si1_icsd_024333_Sb_Si</td>\n",
       "      <td>-4.218911</td>\n",
       "    </tr>\n",
       "    <tr>\n",
       "      <th>9</th>\n",
       "      <td>POSCAR_a2e1_205_P2Si1_icsd_024333_As_Pb</td>\n",
       "      <td>-4.132236</td>\n",
       "    </tr>\n",
       "  </tbody>\n",
       "</table>\n",
       "</div>"
      ],
      "text/plain": [
       "                                 structure predicted_energy\n",
       "0   POSCAR_a2e1_205_P2Si1_icsd_024333_P_Pb        -4.302996\n",
       "1  POSCAR_a2e1_205_P2Si1_icsd_024333_Sb_Sn         -4.02435\n",
       "2   POSCAR_a2e1_205_P2Si1_icsd_024333_P_Si        -5.312324\n",
       "3  POSCAR_a2e1_205_P2Si1_icsd_024333_Bi_Ge        -4.000423\n",
       "4  POSCAR_a2e1_205_P2Si1_icsd_024333_As_Sn        -4.379902\n",
       "5  POSCAR_a2e1_205_P2Si1_icsd_024333_As_Ge        -4.553879\n",
       "6  POSCAR_a2e1_205_P2Si1_icsd_024333_Bi_Si        -4.098542\n",
       "7  POSCAR_a2e1_205_P2Si1_icsd_024333_Bi_Sn        -3.930842\n",
       "8  POSCAR_a2e1_205_P2Si1_icsd_024333_Sb_Si        -4.218911\n",
       "9  POSCAR_a2e1_205_P2Si1_icsd_024333_As_Pb        -4.132236"
      ]
     },
     "execution_count": 14,
     "metadata": {},
     "output_type": "execute_result"
    }
   ],
   "source": [
    "df = pd.DataFrame([list(structures.keys())[:10], predicted_energies]).T\n",
    "df.columns = [\"structure\", \"predicted_energy\"]\n",
    "df"
   ]
  },
  {
   "cell_type": "code",
   "execution_count": 15,
   "id": "14932ad3-4a05-44c4-b6b9-ed809bd3cb6c",
   "metadata": {},
   "outputs": [
    {
     "name": "stdout",
     "output_type": "stream",
     "text": [
      "72696\n"
     ]
    },
    {
     "data": {
      "text/html": [
       "<div>\n",
       "<style scoped>\n",
       "    .dataframe tbody tr th:only-of-type {\n",
       "        vertical-align: middle;\n",
       "    }\n",
       "\n",
       "    .dataframe tbody tr th {\n",
       "        vertical-align: top;\n",
       "    }\n",
       "\n",
       "    .dataframe thead th {\n",
       "        text-align: right;\n",
       "    }\n",
       "</style>\n",
       "<table border=\"1\" class=\"dataframe\">\n",
       "  <thead>\n",
       "    <tr style=\"text-align: right;\">\n",
       "      <th></th>\n",
       "      <th>composition</th>\n",
       "      <th>ubem_vol_only_energy</th>\n",
       "      <th>ubem_decomp_energy</th>\n",
       "    </tr>\n",
       "    <tr>\n",
       "      <th>id</th>\n",
       "      <th></th>\n",
       "      <th></th>\n",
       "      <th></th>\n",
       "    </tr>\n",
       "  </thead>\n",
       "  <tbody>\n",
       "    <tr>\n",
       "      <th>POSCAR_a1d1_186_In1Sb1_icsd_190430_As_Al</th>\n",
       "      <td>Al1As1</td>\n",
       "      <td>-4.516</td>\n",
       "      <td>-0.406</td>\n",
       "    </tr>\n",
       "    <tr>\n",
       "      <th>POSCAR_a11c14d1_142_Al1Ca14Sb11_icsd_033266_As_Ba_Al</th>\n",
       "      <td>Al1As11Ba14</td>\n",
       "      <td>-4.153</td>\n",
       "      <td>0.051</td>\n",
       "    </tr>\n",
       "  </tbody>\n",
       "</table>\n",
       "</div>"
      ],
      "text/plain": [
       "                                                    composition  \\\n",
       "id                                                                \n",
       "POSCAR_a1d1_186_In1Sb1_icsd_190430_As_Al                 Al1As1   \n",
       "POSCAR_a11c14d1_142_Al1Ca14Sb11_icsd_033266_As_...  Al1As11Ba14   \n",
       "\n",
       "                                                    ubem_vol_only_energy  \\\n",
       "id                                                                         \n",
       "POSCAR_a1d1_186_In1Sb1_icsd_190430_As_Al                          -4.516   \n",
       "POSCAR_a11c14d1_142_Al1Ca14Sb11_icsd_033266_As_...                -4.153   \n",
       "\n",
       "                                                    ubem_decomp_energy  \n",
       "id                                                                      \n",
       "POSCAR_a1d1_186_In1Sb1_icsd_190430_As_Al                        -0.406  \n",
       "POSCAR_a11c14d1_142_Al1Ca14Sb11_icsd_033266_As_...               0.051  "
      ]
     },
     "execution_count": 15,
     "metadata": {},
     "output_type": "execute_result"
    }
   ],
   "source": [
    "# I ran the predictions separately. Load them here\n",
    "# note that some structures with Yb or Eu were removed\n",
    "pred_file = \"ubem_prediction_validation/ubem_prediction.csv\"\n",
    "df = pd.read_csv(pred_file, index_col=0)\n",
    "print(len(df))\n",
    "df.head(2)"
   ]
  },
  {
   "cell_type": "code",
   "execution_count": 16,
   "id": "e91d97de-0ed3-4282-9d1e-474e739e5e0f",
   "metadata": {},
   "outputs": [
    {
     "data": {
      "text/plain": [
       "<Axes: ylabel='Frequency'>"
      ]
     },
     "execution_count": 16,
     "metadata": {},
     "output_type": "execute_result"
    },
    {
     "data": {
      "image/png": "[encoded data removed]",
      "text/plain": [
       "<Figure size 640x480 with 1 Axes>"
      ]
     },
     "metadata": {},
     "output_type": "display_data"
    }
   ],
   "source": [
    "df.ubem_vol_only_energy.plot.hist(bins=30)"
   ]
  },
  {
   "cell_type": "markdown",
   "id": "2b89c870-9aba-4175-8a58-a0cc82782df2",
   "metadata": {},
   "source": [
    "## Decomposition Energy\n",
    "- Build the convex hull and compute the predicted decomposition energy for this structure\n",
    "- We can also compute all of the \"sub-rewards\" we're interested in\n",
    "- To compute the self-consistent decomposition energy, we would need all the DFT-relaxed energies we have, as well as the lowest predicted energy for each relevant composition"
   ]
  },
  {
   "cell_type": "code",
   "execution_count": 17,
   "id": "75719c30-1457-460a-be1b-6cfd28c0a878",
   "metadata": {},
   "outputs": [],
   "source": [
    "from ubem_training_pretrained_model.ehull import setup_competing_phases, convex_hull_stability"
   ]
  },
  {
   "cell_type": "code",
   "execution_count": 18,
   "id": "779db067-0a87-420b-a6c2-9f67fb69875c",
   "metadata": {},
   "outputs": [
    {
     "name": "stdout",
     "output_type": "stream",
     "text": [
      "Reading ubem_training_pretrained_model/inputs/competing_phases.csv\n",
      "\t12682 lines\n",
      "  sortedformula   icsdnum  energyperatom reduced_composition\n",
      "0    Ag10Br3Te4  173116.0      -1.718985          Ag10Br3Te4\n",
      "1   Ag11K1O16V4  391344.0      -4.797702         Ag11K1O16V4\n",
      "\t12682 entries\n"
     ]
    }
   ],
   "source": [
    "# first load the competing phases from NREL MatDB\n",
    "competing_phases_file = \"ubem_training_pretrained_model/inputs/competing_phases.csv\"\n",
    "competing_phases = setup_competing_phases(competing_phases_file)"
   ]
  },
  {
   "cell_type": "code",
   "execution_count": 19,
   "id": "8c3db234-a770-43fe-b0fe-57564f884a81",
   "metadata": {},
   "outputs": [
    {
     "name": "stdout",
     "output_type": "stream",
     "text": [
      "12682\n"
     ]
    },
    {
     "data": {
      "text/html": [
       "<div>\n",
       "<style scoped>\n",
       "    .dataframe tbody tr th:only-of-type {\n",
       "        vertical-align: middle;\n",
       "    }\n",
       "\n",
       "    .dataframe tbody tr th {\n",
       "        vertical-align: top;\n",
       "    }\n",
       "\n",
       "    .dataframe thead th {\n",
       "        text-align: right;\n",
       "    }\n",
       "</style>\n",
       "<table border=\"1\" class=\"dataframe\">\n",
       "  <thead>\n",
       "    <tr style=\"text-align: right;\">\n",
       "      <th></th>\n",
       "      <th>icsdnum</th>\n",
       "      <th>energyperatom</th>\n",
       "      <th>reduced_composition</th>\n",
       "    </tr>\n",
       "    <tr>\n",
       "      <th>sortedformula</th>\n",
       "      <th></th>\n",
       "      <th></th>\n",
       "      <th></th>\n",
       "    </tr>\n",
       "  </thead>\n",
       "  <tbody>\n",
       "    <tr>\n",
       "      <th>Ag10Br3Te4</th>\n",
       "      <td>173116.0</td>\n",
       "      <td>-1.718985</td>\n",
       "      <td>Ag10Br3Te4</td>\n",
       "    </tr>\n",
       "    <tr>\n",
       "      <th>Ag11K1O16V4</th>\n",
       "      <td>391344.0</td>\n",
       "      <td>-4.797702</td>\n",
       "      <td>Ag11K1O16V4</td>\n",
       "    </tr>\n",
       "  </tbody>\n",
       "</table>\n",
       "</div>"
      ],
      "text/plain": [
       "                icsdnum  energyperatom reduced_composition\n",
       "sortedformula                                             \n",
       "Ag10Br3Te4     173116.0      -1.718985          Ag10Br3Te4\n",
       "Ag11K1O16V4    391344.0      -4.797702         Ag11K1O16V4"
      ]
     },
     "execution_count": 19,
     "metadata": {},
     "output_type": "execute_result"
    }
   ],
   "source": [
    "df_comp_phases = pd.read_csv(\"ubem_training_pretrained_model/inputs/competing_phases.csv\", index_col=0)\n",
    "print(len(df_comp_phases))\n",
    "df_comp_phases.head(2)"
   ]
  },
  {
   "cell_type": "markdown",
   "id": "4b7afb4f-9f64-4a20-90fe-6dd0edead938",
   "metadata": {},
   "source": [
    "### Cacluate the 'self-consistent' decomposition energy by including the lowest predicted energy for each composition"
   ]
  },
  {
   "cell_type": "code",
   "execution_count": 20,
   "id": "9a20496c-138a-4fa8-96c0-1873d52860b8",
   "metadata": {},
   "outputs": [],
   "source": [
    "df2 = df.reset_index()"
   ]
  },
  {
   "cell_type": "code",
   "execution_count": 21,
   "id": "34c1f7f8-16d4-4530-8ae8-197ccb4d8946",
   "metadata": {},
   "outputs": [
    {
     "data": {
      "text/html": [
       "<div>\n",
       "<style scoped>\n",
       "    .dataframe tbody tr th:only-of-type {\n",
       "        vertical-align: middle;\n",
       "    }\n",
       "\n",
       "    .dataframe tbody tr th {\n",
       "        vertical-align: top;\n",
       "    }\n",
       "\n",
       "    .dataframe thead th {\n",
       "        text-align: right;\n",
       "    }\n",
       "</style>\n",
       "<table border=\"1\" class=\"dataframe\">\n",
       "  <thead>\n",
       "    <tr style=\"text-align: right;\">\n",
       "      <th></th>\n",
       "      <th>id</th>\n",
       "      <th>composition</th>\n",
       "      <th>ubem_vol_only_energy</th>\n",
       "      <th>ubem_decomp_energy</th>\n",
       "    </tr>\n",
       "  </thead>\n",
       "  <tbody>\n",
       "    <tr>\n",
       "      <th>0</th>\n",
       "      <td>POSCAR_a1d1_186_In1Sb1_icsd_190430_As_Al</td>\n",
       "      <td>Al1As1</td>\n",
       "      <td>-4.516</td>\n",
       "      <td>-0.406</td>\n",
       "    </tr>\n",
       "    <tr>\n",
       "      <th>1</th>\n",
       "      <td>POSCAR_a11c14d1_142_Al1Ca14Sb11_icsd_033266_As...</td>\n",
       "      <td>Al1As11Ba14</td>\n",
       "      <td>-4.153</td>\n",
       "      <td>0.051</td>\n",
       "    </tr>\n",
       "  </tbody>\n",
       "</table>\n",
       "</div>"
      ],
      "text/plain": [
       "                                                  id  composition  \\\n",
       "0           POSCAR_a1d1_186_In1Sb1_icsd_190430_As_Al       Al1As1   \n",
       "1  POSCAR_a11c14d1_142_Al1Ca14Sb11_icsd_033266_As...  Al1As11Ba14   \n",
       "\n",
       "   ubem_vol_only_energy  ubem_decomp_energy  \n",
       "0                -4.516              -0.406  \n",
       "1                -4.153               0.051  "
      ]
     },
     "execution_count": 21,
     "metadata": {},
     "output_type": "execute_result"
    }
   ],
   "source": [
    "df2.head(2)"
   ]
  },
  {
   "cell_type": "code",
   "execution_count": 22,
   "id": "86b0a312-8b3a-47aa-8adf-52efc72050a5",
   "metadata": {},
   "outputs": [
    {
     "data": {
      "text/plain": [
       "<Axes: ylabel='Frequency'>"
      ]
     },
     "execution_count": 22,
     "metadata": {},
     "output_type": "execute_result"
    },
    {
     "data": {
      "image/png": "[encoded data removed]",
      "text/plain": [
       "<Figure size 640x480 with 1 Axes>"
      ]
     },
     "metadata": {},
     "output_type": "display_data"
    }
   ],
   "source": [
    "comps_min_energy = df2[[\"id\", \"composition\", \"ubem_vol_only_energy\"]].groupby(\"composition\").min()\n",
    "comps_min_energy.ubem_vol_only_energy.plot.hist(bins=30)"
   ]
  },
  {
   "cell_type": "code",
   "execution_count": 23,
   "id": "41bce6d3-57ca-42c0-9e39-25f76d5c377d",
   "metadata": {},
   "outputs": [
    {
     "data": {
      "text/html": [
       "<div>\n",
       "<style scoped>\n",
       "    .dataframe tbody tr th:only-of-type {\n",
       "        vertical-align: middle;\n",
       "    }\n",
       "\n",
       "    .dataframe tbody tr th {\n",
       "        vertical-align: top;\n",
       "    }\n",
       "\n",
       "    .dataframe thead th {\n",
       "        text-align: right;\n",
       "    }\n",
       "</style>\n",
       "<table border=\"1\" class=\"dataframe\">\n",
       "  <thead>\n",
       "    <tr style=\"text-align: right;\">\n",
       "      <th></th>\n",
       "      <th>composition</th>\n",
       "      <th>id</th>\n",
       "      <th>ubem_vol_only_energy</th>\n",
       "    </tr>\n",
       "  </thead>\n",
       "  <tbody>\n",
       "    <tr>\n",
       "      <th>0</th>\n",
       "      <td>Al1As1</td>\n",
       "      <td>POSCAR_a1d1_186_In1Sb1_icsd_190430_As_Al</td>\n",
       "      <td>-4.516</td>\n",
       "    </tr>\n",
       "    <tr>\n",
       "      <th>1</th>\n",
       "      <td>Al1As11Ba14</td>\n",
       "      <td>POSCAR_a11c14d1_142_Al1Ca14Sb11_icsd_033266_As...</td>\n",
       "      <td>-4.153</td>\n",
       "    </tr>\n",
       "  </tbody>\n",
       "</table>\n",
       "</div>"
      ],
      "text/plain": [
       "   composition                                                 id  \\\n",
       "0       Al1As1           POSCAR_a1d1_186_In1Sb1_icsd_190430_As_Al   \n",
       "1  Al1As11Ba14  POSCAR_a11c14d1_142_Al1Ca14Sb11_icsd_033266_As...   \n",
       "\n",
       "   ubem_vol_only_energy  \n",
       "0                -4.516  \n",
       "1                -4.153  "
      ]
     },
     "execution_count": 23,
     "metadata": {},
     "output_type": "execute_result"
    }
   ],
   "source": [
    "comps_min_energy = comps_min_energy.reset_index()\n",
    "comps_min_energy.head(2)"
   ]
  },
  {
   "cell_type": "code",
   "execution_count": 24,
   "id": "1a79a17f-0dc2-4326-9c92-317344be6df4",
   "metadata": {},
   "outputs": [
    {
     "name": "stdout",
     "output_type": "stream",
     "text": [
      "541\n"
     ]
    }
   ],
   "source": [
    "comp_overlap_icsd = set(comps_min_energy.composition.values) & set(df_comp_phases.reduced_composition.values)\n",
    "print(len(comp_overlap_icsd))"
   ]
  },
  {
   "cell_type": "code",
   "execution_count": 25,
   "id": "a4a4525c-2156-429a-8dae-1f2e7451483d",
   "metadata": {},
   "outputs": [
    {
     "name": "stdout",
     "output_type": "stream",
     "text": [
      "41284 40743\n"
     ]
    }
   ],
   "source": [
    "comps_min_energy_unique = comps_min_energy[~comps_min_energy.composition.isin(comp_overlap_icsd)]\n",
    "print(len(comps_min_energy), len(comps_min_energy_unique))"
   ]
  },
  {
   "cell_type": "code",
   "execution_count": 27,
   "id": "caa334c9-7f95-4b70-9f0b-03849fc91ea4",
   "metadata": {},
   "outputs": [
    {
     "name": "stderr",
     "output_type": "stream",
     "text": [
      "/tmp/ipykernel_676114/1599373682.py:3: SettingWithCopyWarning: \n",
      "A value is trying to be set on a copy of a slice from a DataFrame.\n",
      "Try using .loc[row_indexer,col_indexer] = value instead\n",
      "\n",
      "See the caveats in the documentation: https://pandas.pydata.org/pandas-docs/stable/user_guide/indexing.html#returning-a-view-versus-a-copy\n",
      "  comps_min_energy_unique['energy'] = (\n"
     ]
    },
    {
     "name": "stdout",
     "output_type": "stream",
     "text": [
      "\t40743 entries\n"
     ]
    }
   ],
   "source": [
    "energy_col = \"ubem_vol_only_energy\"\n",
    "comp_col = \"composition\"\n",
    "comps_min_energy_unique['energy'] = (\n",
    "    comps_min_energy_unique[energy_col] *\n",
    "    comps_min_energy_unique[comp_col].apply(lambda x: Composition(x).num_atoms)\n",
    ")\n",
    "# convert the dataframe to a list of PDEntries used to create the convex hull\n",
    "pd_entries = comps_min_energy_unique.apply(\n",
    "    lambda row: PDEntry(Composition(row[comp_col]),\n",
    "                        row.energy),\n",
    "    axis=1\n",
    ")\n",
    "print(f\"\\t{len(pd_entries)} entries\")"
   ]
  },
  {
   "cell_type": "code",
   "execution_count": 28,
   "id": "8b4bcb08-e388-4ea4-92c5-45233e65627a",
   "metadata": {},
   "outputs": [
    {
     "data": {
      "text/plain": [
       "12742"
      ]
     },
     "execution_count": 28,
     "metadata": {},
     "output_type": "execute_result"
    }
   ],
   "source": [
    "len(competing_phases)"
   ]
  },
  {
   "cell_type": "code",
   "execution_count": 29,
   "id": "06a7b475-95fb-4aa5-a716-2463d57eb5a7",
   "metadata": {},
   "outputs": [
    {
     "name": "stdout",
     "output_type": "stream",
     "text": [
      "53485\n"
     ]
    }
   ],
   "source": [
    "competing_phases_wpred = list(competing_phases) + list(pd_entries)\n",
    "print(len(competing_phases_wpred))"
   ]
  },
  {
   "cell_type": "markdown",
   "id": "c59e02e8-cd02-4049-9396-e56feab45a1c",
   "metadata": {},
   "source": [
    "Can run here, or skip the next three cells to use the pre-computed decomposition energies"
   ]
  },
  {
   "cell_type": "code",
   "execution_count": null,
   "id": "ec691164-fa1f-451d-9b7b-9680f6108616",
   "metadata": {},
   "outputs": [],
   "source": [
    "# compute the decomposition energies of the structures\n",
    "decomp_energies = {}\n",
    "for s_id, energyperatom in tqdm(df2[[\"structure\", \"ubem_vol_only_energy\"]].values):\n",
    "    structure = structures[s_id]\n",
    "    try:\n",
    "        decomp_energy = convex_hull_stability(structure.composition,\n",
    "                                              energyperatom,\n",
    "                                              competing_phases_wpred,\n",
    "                                             )\n",
    "        decomp_energies[s_id] = decomp_energy\n",
    "    except ValueError as e:\n",
    "        print(f\"ValueError for {s_id}: {e}\")\n",
    "        decomp_energies[s_id] = np.nan\n",
    "    # reward, info = rewarder.compute_reward(comp, energyperatom)\n",
    "    # decomp_energies[s_id] = info['decomp_energy']"
   ]
  },
  {
   "cell_type": "code",
   "execution_count": 77,
   "id": "17f197bd-81e7-4427-a658-9e07888ec075",
   "metadata": {},
   "outputs": [
    {
     "data": {
      "text/html": [
       "<div>\n",
       "<style scoped>\n",
       "    .dataframe tbody tr th:only-of-type {\n",
       "        vertical-align: middle;\n",
       "    }\n",
       "\n",
       "    .dataframe tbody tr th {\n",
       "        vertical-align: top;\n",
       "    }\n",
       "\n",
       "    .dataframe thead th {\n",
       "        text-align: right;\n",
       "    }\n",
       "</style>\n",
       "<table border=\"1\" class=\"dataframe\">\n",
       "  <thead>\n",
       "    <tr style=\"text-align: right;\">\n",
       "      <th></th>\n",
       "      <th>composition</th>\n",
       "      <th>decomp_energy</th>\n",
       "      <th>predicted_energy</th>\n",
       "      <th>structure</th>\n",
       "    </tr>\n",
       "  </thead>\n",
       "  <tbody>\n",
       "    <tr>\n",
       "      <th>0</th>\n",
       "      <td>Al1As1</td>\n",
       "      <td>-0.406064</td>\n",
       "      <td>-4.516064</td>\n",
       "      <td>POSCAR_a1d1_186_In1Sb1_icsd_190430_As_Al</td>\n",
       "    </tr>\n",
       "    <tr>\n",
       "      <th>1</th>\n",
       "      <td>Al1As11Ba14</td>\n",
       "      <td>-0.040416</td>\n",
       "      <td>-4.152862</td>\n",
       "      <td>POSCAR_a11c14d1_142_Al1Ca14Sb11_icsd_033266_As...</td>\n",
       "    </tr>\n",
       "  </tbody>\n",
       "</table>\n",
       "</div>"
      ],
      "text/plain": [
       "   composition  decomp_energy  predicted_energy  \\\n",
       "0       Al1As1      -0.406064         -4.516064   \n",
       "1  Al1As11Ba14      -0.040416         -4.152862   \n",
       "\n",
       "                                           structure  \n",
       "0           POSCAR_a1d1_186_In1Sb1_icsd_190430_As_Al  \n",
       "1  POSCAR_a11c14d1_142_Al1Ca14Sb11_icsd_033266_As...  "
      ]
     },
     "execution_count": 77,
     "metadata": {},
     "output_type": "execute_result"
    }
   ],
   "source": [
    "df_sc = comps_min_energy.copy()\n",
    "df_sc.drop(columns=\"energy\", inplace=True)\n",
    "df_sc.head(2)"
   ]
  },
  {
   "cell_type": "code",
   "execution_count": 78,
   "id": "d36320a2-c43d-4ccc-a331-4688b2f4cd68",
   "metadata": {},
   "outputs": [
    {
     "data": {
      "text/html": [
       "<div>\n",
       "<style scoped>\n",
       "    .dataframe tbody tr th:only-of-type {\n",
       "        vertical-align: middle;\n",
       "    }\n",
       "\n",
       "    .dataframe tbody tr th {\n",
       "        vertical-align: top;\n",
       "    }\n",
       "\n",
       "    .dataframe thead th {\n",
       "        text-align: right;\n",
       "    }\n",
       "</style>\n",
       "<table border=\"1\" class=\"dataframe\">\n",
       "  <thead>\n",
       "    <tr style=\"text-align: right;\">\n",
       "      <th></th>\n",
       "      <th>composition</th>\n",
       "      <th>decomp_energy</th>\n",
       "      <th>predicted_energy</th>\n",
       "    </tr>\n",
       "    <tr>\n",
       "      <th>structure</th>\n",
       "      <th></th>\n",
       "      <th></th>\n",
       "      <th></th>\n",
       "    </tr>\n",
       "  </thead>\n",
       "  <tbody>\n",
       "    <tr>\n",
       "      <th>POSCAR_a1d1_186_In1Sb1_icsd_190430_As_Al</th>\n",
       "      <td>Al1As1</td>\n",
       "      <td>-0.406064</td>\n",
       "      <td>-4.516064</td>\n",
       "    </tr>\n",
       "    <tr>\n",
       "      <th>POSCAR_a11c14d1_142_Al1Ca14Sb11_icsd_033266_As_Ba_Al</th>\n",
       "      <td>Al1As11Ba14</td>\n",
       "      <td>0.050697</td>\n",
       "      <td>-4.152862</td>\n",
       "    </tr>\n",
       "  </tbody>\n",
       "</table>\n",
       "</div>"
      ],
      "text/plain": [
       "                                                    composition  \\\n",
       "structure                                                         \n",
       "POSCAR_a1d1_186_In1Sb1_icsd_190430_As_Al                 Al1As1   \n",
       "POSCAR_a11c14d1_142_Al1Ca14Sb11_icsd_033266_As_...  Al1As11Ba14   \n",
       "\n",
       "                                                    decomp_energy  \\\n",
       "structure                                                           \n",
       "POSCAR_a1d1_186_In1Sb1_icsd_190430_As_Al                -0.406064   \n",
       "POSCAR_a11c14d1_142_Al1Ca14Sb11_icsd_033266_As_...       0.050697   \n",
       "\n",
       "                                                    predicted_energy  \n",
       "structure                                                             \n",
       "POSCAR_a1d1_186_In1Sb1_icsd_190430_As_Al                   -4.516064  \n",
       "POSCAR_a11c14d1_142_Al1Ca14Sb11_icsd_033266_As_...         -4.152862  "
      ]
     },
     "execution_count": 78,
     "metadata": {},
     "output_type": "execute_result"
    }
   ],
   "source": [
    "df_sc = df_sc.set_index('structure')\n",
    "df_sc['ubem_decomp_energy'] = decomp_energies\n",
    "df_sc.head(2)"
   ]
  },
  {
   "cell_type": "code",
   "execution_count": 14,
   "id": "e30c26d0-ddc8-4c4c-a8be-54dc1142228f",
   "metadata": {},
   "outputs": [
    {
     "data": {
      "text/html": [
       "<div>\n",
       "<style scoped>\n",
       "    .dataframe tbody tr th:only-of-type {\n",
       "        vertical-align: middle;\n",
       "    }\n",
       "\n",
       "    .dataframe tbody tr th {\n",
       "        vertical-align: top;\n",
       "    }\n",
       "\n",
       "    .dataframe thead th {\n",
       "        text-align: right;\n",
       "    }\n",
       "</style>\n",
       "<table border=\"1\" class=\"dataframe\">\n",
       "  <thead>\n",
       "    <tr style=\"text-align: right;\">\n",
       "      <th></th>\n",
       "      <th>id</th>\n",
       "      <th>composition</th>\n",
       "      <th>ubem_vol_only_energy</th>\n",
       "      <th>ubem_decomp_energy</th>\n",
       "    </tr>\n",
       "  </thead>\n",
       "  <tbody>\n",
       "    <tr>\n",
       "      <th>0</th>\n",
       "      <td>POSCAR_a1d1_186_In1Sb1_icsd_190430_As_Al</td>\n",
       "      <td>Al1As1</td>\n",
       "      <td>-4.516</td>\n",
       "      <td>-0.406</td>\n",
       "    </tr>\n",
       "    <tr>\n",
       "      <th>1</th>\n",
       "      <td>POSCAR_a11c14d1_142_Al1Ca14Sb11_icsd_033266_As...</td>\n",
       "      <td>Al1As11Ba14</td>\n",
       "      <td>-4.153</td>\n",
       "      <td>0.051</td>\n",
       "    </tr>\n",
       "  </tbody>\n",
       "</table>\n",
       "</div>"
      ],
      "text/plain": [
       "                                                  id  composition  \\\n",
       "0           POSCAR_a1d1_186_In1Sb1_icsd_190430_As_Al       Al1As1   \n",
       "1  POSCAR_a11c14d1_142_Al1Ca14Sb11_icsd_033266_As...  Al1As11Ba14   \n",
       "\n",
       "   ubem_vol_only_energy  ubem_decomp_energy  \n",
       "0                -4.516              -0.406  \n",
       "1                -4.153               0.051  "
      ]
     },
     "execution_count": 14,
     "metadata": {},
     "output_type": "execute_result"
    }
   ],
   "source": [
    "df2.head(2)"
   ]
  },
  {
   "cell_type": "code",
   "execution_count": 30,
   "id": "ac24e879-9a6e-48b5-9cc2-0edd5e10fab3",
   "metadata": {},
   "outputs": [
    {
     "name": "stdout",
     "output_type": "stream",
     "text": [
      "41284\n"
     ]
    },
    {
     "data": {
      "text/html": [
       "<div>\n",
       "<style scoped>\n",
       "    .dataframe tbody tr th:only-of-type {\n",
       "        vertical-align: middle;\n",
       "    }\n",
       "\n",
       "    .dataframe tbody tr th {\n",
       "        vertical-align: top;\n",
       "    }\n",
       "\n",
       "    .dataframe thead th {\n",
       "        text-align: right;\n",
       "    }\n",
       "</style>\n",
       "<table border=\"1\" class=\"dataframe\">\n",
       "  <thead>\n",
       "    <tr style=\"text-align: right;\">\n",
       "      <th></th>\n",
       "      <th>composition</th>\n",
       "      <th>id</th>\n",
       "      <th>ubem_decomp_energy</th>\n",
       "    </tr>\n",
       "  </thead>\n",
       "  <tbody>\n",
       "    <tr>\n",
       "      <th>0</th>\n",
       "      <td>Al1As1</td>\n",
       "      <td>POSCAR_a1d1_186_In1Sb1_icsd_190430_As_Al</td>\n",
       "      <td>-0.406</td>\n",
       "    </tr>\n",
       "    <tr>\n",
       "      <th>1</th>\n",
       "      <td>Al1As11Ba14</td>\n",
       "      <td>POSCAR_a11c14d1_142_Al1Ca14Sb11_icsd_033266_As...</td>\n",
       "      <td>0.051</td>\n",
       "    </tr>\n",
       "  </tbody>\n",
       "</table>\n",
       "</div>"
      ],
      "text/plain": [
       "   composition                                                 id  \\\n",
       "0       Al1As1           POSCAR_a1d1_186_In1Sb1_icsd_190430_As_Al   \n",
       "1  Al1As11Ba14  POSCAR_a11c14d1_142_Al1Ca14Sb11_icsd_033266_As...   \n",
       "\n",
       "   ubem_decomp_energy  \n",
       "0              -0.406  \n",
       "1               0.051  "
      ]
     },
     "execution_count": 30,
     "metadata": {},
     "output_type": "execute_result"
    }
   ],
   "source": [
    "# the decomposition energies were calculated separately\n",
    "df_sc = df2[[\"id\", \"composition\", \"ubem_decomp_energy\"]].groupby(\"composition\").min().reset_index()\n",
    "print(len(df_sc))\n",
    "df_sc.head(2)"
   ]
  },
  {
   "cell_type": "code",
   "execution_count": 31,
   "id": "09f5e2eb-3692-4ae8-b682-d25b26ac26fe",
   "metadata": {},
   "outputs": [],
   "source": [
    "df_sc2 = df_sc.copy()"
   ]
  },
  {
   "cell_type": "code",
   "execution_count": 32,
   "id": "003f7cf7-d8a0-4d30-afa2-1288a63a84c9",
   "metadata": {},
   "outputs": [],
   "source": [
    "# restrict the compositions to those not in ICSD\n",
    "df_sc = df_sc[~df_sc.composition.isin(comp_overlap_icsd)]"
   ]
  },
  {
   "cell_type": "code",
   "execution_count": 33,
   "id": "16cb36c3-26f7-4d78-be8a-aaf4a7aa2836",
   "metadata": {},
   "outputs": [
    {
     "data": {
      "text/html": [
       "<div>\n",
       "<style scoped>\n",
       "    .dataframe tbody tr th:only-of-type {\n",
       "        vertical-align: middle;\n",
       "    }\n",
       "\n",
       "    .dataframe tbody tr th {\n",
       "        vertical-align: top;\n",
       "    }\n",
       "\n",
       "    .dataframe thead th {\n",
       "        text-align: right;\n",
       "    }\n",
       "</style>\n",
       "<table border=\"1\" class=\"dataframe\">\n",
       "  <thead>\n",
       "    <tr style=\"text-align: right;\">\n",
       "      <th></th>\n",
       "      <th>composition</th>\n",
       "      <th>id</th>\n",
       "      <th>ubem_decomp_energy</th>\n",
       "    </tr>\n",
       "  </thead>\n",
       "  <tbody>\n",
       "    <tr>\n",
       "      <th>3</th>\n",
       "      <td>Al1As11Ca14</td>\n",
       "      <td>POSCAR_a11c14d1_142_Al1Ca14Sb11_icsd_033266_As...</td>\n",
       "      <td>-0.026</td>\n",
       "    </tr>\n",
       "    <tr>\n",
       "      <th>39</th>\n",
       "      <td>Al1As2Cs2Li1</td>\n",
       "      <td>POSCAR_a2b1b2d1_64_As2In1K2Li1_icsd_402147_Cs_...</td>\n",
       "      <td>-0.015</td>\n",
       "    </tr>\n",
       "    <tr>\n",
       "      <th>40</th>\n",
       "      <td>Al1As2Cs2Na1</td>\n",
       "      <td>POSCAR_a2b1b2d1_64_As2In1K2Li1_icsd_402147_Cs_...</td>\n",
       "      <td>-0.046</td>\n",
       "    </tr>\n",
       "    <tr>\n",
       "      <th>42</th>\n",
       "      <td>Al1As2Cs3</td>\n",
       "      <td>POSCAR_a2b1b2d1_64_As2In1K2Li1_icsd_402147_Cs_...</td>\n",
       "      <td>-0.026</td>\n",
       "    </tr>\n",
       "    <tr>\n",
       "      <th>50</th>\n",
       "      <td>Al1As2K2Li1</td>\n",
       "      <td>POSCAR_a2b1b2d1_64_As2In1K2Li1_icsd_402147_K_L...</td>\n",
       "      <td>-0.027</td>\n",
       "    </tr>\n",
       "    <tr>\n",
       "      <th>...</th>\n",
       "      <td>...</td>\n",
       "      <td>...</td>\n",
       "      <td>...</td>\n",
       "    </tr>\n",
       "    <tr>\n",
       "      <th>41066</th>\n",
       "      <td>Sb3Sr4</td>\n",
       "      <td>POSCAR_a3c2c2_12_Eu2P3Zn2_icsd_426082_Sr_Sb_Sr</td>\n",
       "      <td>-0.012</td>\n",
       "    </tr>\n",
       "    <tr>\n",
       "      <th>41116</th>\n",
       "      <td>Sb4Sr5</td>\n",
       "      <td>POSCAR_a4c2c3_12_As4Ba3Zn2_icsd_424760_Sb_Sr_Sr</td>\n",
       "      <td>-0.015</td>\n",
       "    </tr>\n",
       "    <tr>\n",
       "      <th>41207</th>\n",
       "      <td>Sb7Zn8</td>\n",
       "      <td>POSCAR_a7c8_31_Sb7Zn8_icsd_238947_Sb_Zn</td>\n",
       "      <td>0.007</td>\n",
       "    </tr>\n",
       "    <tr>\n",
       "      <th>41235</th>\n",
       "      <td>Sb8Sr11Zn14</td>\n",
       "      <td>POSCAR_a14c11c8_12_Ba11Bi14Cd8_icsd_240338_Sb_...</td>\n",
       "      <td>-0.109</td>\n",
       "    </tr>\n",
       "    <tr>\n",
       "      <th>41273</th>\n",
       "      <td>Sb9Sr11Tl1</td>\n",
       "      <td>POSCAR_a9c11d1_45_Ca11In1Sb9_icsd_042371_Sb_Sr_Tl</td>\n",
       "      <td>-0.000</td>\n",
       "    </tr>\n",
       "  </tbody>\n",
       "</table>\n",
       "<p>1930 rows × 3 columns</p>\n",
       "</div>"
      ],
      "text/plain": [
       "        composition                                                 id  \\\n",
       "3       Al1As11Ca14  POSCAR_a11c14d1_142_Al1Ca14Sb11_icsd_033266_As...   \n",
       "39     Al1As2Cs2Li1  POSCAR_a2b1b2d1_64_As2In1K2Li1_icsd_402147_Cs_...   \n",
       "40     Al1As2Cs2Na1  POSCAR_a2b1b2d1_64_As2In1K2Li1_icsd_402147_Cs_...   \n",
       "42        Al1As2Cs3  POSCAR_a2b1b2d1_64_As2In1K2Li1_icsd_402147_Cs_...   \n",
       "50      Al1As2K2Li1  POSCAR_a2b1b2d1_64_As2In1K2Li1_icsd_402147_K_L...   \n",
       "...             ...                                                ...   \n",
       "41066        Sb3Sr4     POSCAR_a3c2c2_12_Eu2P3Zn2_icsd_426082_Sr_Sb_Sr   \n",
       "41116        Sb4Sr5    POSCAR_a4c2c3_12_As4Ba3Zn2_icsd_424760_Sb_Sr_Sr   \n",
       "41207        Sb7Zn8            POSCAR_a7c8_31_Sb7Zn8_icsd_238947_Sb_Zn   \n",
       "41235   Sb8Sr11Zn14  POSCAR_a14c11c8_12_Ba11Bi14Cd8_icsd_240338_Sb_...   \n",
       "41273    Sb9Sr11Tl1  POSCAR_a9c11d1_45_Ca11In1Sb9_icsd_042371_Sb_Sr_Tl   \n",
       "\n",
       "       ubem_decomp_energy  \n",
       "3                  -0.026  \n",
       "39                 -0.015  \n",
       "40                 -0.046  \n",
       "42                 -0.026  \n",
       "50                 -0.027  \n",
       "...                   ...  \n",
       "41066              -0.012  \n",
       "41116              -0.015  \n",
       "41207               0.007  \n",
       "41235              -0.109  \n",
       "41273              -0.000  \n",
       "\n",
       "[1930 rows x 3 columns]"
      ]
     },
     "execution_count": 33,
     "metadata": {},
     "output_type": "execute_result"
    }
   ],
   "source": [
    "df_sc[df_sc.ubem_decomp_energy < 0.01]"
   ]
  },
  {
   "cell_type": "code",
   "execution_count": null,
   "id": "d15bcaac-74b7-44f6-a275-d724b7a976a0",
   "metadata": {},
   "outputs": [],
   "source": [
    "df_sc.to_csv(\"sc_decomp_energies.csv\")"
   ]
  }
 ],
 "metadata": {
  "kernelspec": {
   "display_name": "Python 3 (ipykernel)",
   "language": "python",
   "name": "python3"
  },
  "language_info": {
   "codemirror_mode": {
    "name": "ipython",
    "version": 3
   },
   "file_extension": ".py",
   "mimetype": "text/x-python",
   "name": "python",
   "nbconvert_exporter": "python",
   "pygments_lexer": "ipython3",
   "version": "3.10.8"
  }
 },
 "nbformat": 4,
 "nbformat_minor": 5
}
